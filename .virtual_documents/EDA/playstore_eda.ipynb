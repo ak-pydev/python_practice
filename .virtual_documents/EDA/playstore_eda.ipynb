


import pandas as pd 
import numpy as np
import matplotlib.pyplot as plt 
import seaborn as sns


df = pd.read_csv(r"C:\Users\Aaditya Khanal\OneDrive\Desktop\datasets\googleplaystore.csv")


df.head()


df.info()


df.describe()


df.isnull().sum()


# initial obeservation : Dataset has missing values


df.head(2)


# checking if all the values in the Reviews column are numerical
df['Reviews'].unique()


df['Reviews'].str.isnumeric().sum()


df[~df['Reviews'].str.isnumeric()]


#Data Cleaning
df_copy = df.copy()


df_copy = df_copy.drop(df_copy.index[10472])


df_copy[~df_copy['Reviews'].str.isnumeric()]


# Convert Review Datatype to int

df_copy['Reviews'] = df_copy['Reviews'].astype(np.int64)


df_copy.info()


df_copy['Size'].unique()


df_copy['Size'].isnull().sum()


df_copy['Size'] = df_copy['Size'].str.replace('M','000')
df_copy['Size'] = df_copy['Size'].str.replace('k','')
df_copy['Size'] = df_copy['Size'].replace('Varies with device',np.nan)
df_copy['Size'] = df_copy['Size'].astype(np.float64)


df_copy['Size']


df['Installs'].unique()


chars_to_remove = ['+',',','$']
cols_to_clean = ['Installs','Price']
for item in chars_to_remove:
    for cols in cols_to_clean:
        df_copy[cols]= df_copy[cols].str.replace(item,'')


df_copy['Installs'] = df_copy['Installs'].astype(np.int64) 
df_copy['Price'] = df_copy['Price'].astype(np.float64)


# handling last update feature
df_copy['Last Updated'].unique()


# convert datetime 

df_copy['Last Updated']= pd.to_datetime(df_copy['Last Updated'])
df_copy['Day'] = df_copy['Last Updated'].dt.day
df_copy['Month'] = df_copy['Last Updated'].dt.month
df_copy['Year'] = df_copy['Last Updated'].dt.year


df_copy.info()


df_copy.head()


df_copy.to_csv('playstorecleaned.csv',index=False)





df_cleaned  = pd.read_csv('playstorecleaned.csv')


df_cleaned.head()





df_cleaned[df_cleaned.duplicated('App')]


df_cleaned[df_cleaned.duplicated('App')].shape # dataset has duplicate records


df_cleaned = df_cleaned.drop_duplicates(subset=['App'],keep='first')


df_cleaned.shape


numeric_features = [feature for feature in df_cleaned.columns if df_cleaned[feature].dtype != 'O']
categorical_features = [feature for feature in df_cleaned.columns if df_cleaned[feature].dtype == 'O']

print('We have {} numerical features: {}'.format(len(numeric_features),numeric_features))
print('\nWe have {} numerical features: {}'.format(len(categorical_features), categorical_features))


# Proportion of count data on categorical variable

for col in categorical_features:
    print(df_cleaned[col].value_counts(normalize=True))
    print('----------------------------------------------------------------------------')


# Plotting proportion of count data on numerical columns

plt.figure(figsize=(15,15))
plt.suptitle('Univariate Analysis of Numerical features', fontsize = 20, fontweight= 'bold', alpha=0.8,y=1.)


for i in range(0,len(numeric_features)):
    plt.subplot(5,3,i+1)
    sns.kdeplot(x=df_cleaned[numeric_features[i]],fill=True,color= 'r')
    plt.xlabel(numeric_features[i])
    plt.tight_layout()





# Plotting proportion of data on categorical columns

plt.figure(figsize=(20,15))
plt.suptitle('Univariate Analysis of Categorical features', fontsize = 20, fontweight= 'bold', alpha=0.8,y=1.)

category = ['Type','Content Rating']
for i in range(0,len(category)):
    plt.subplot(2,2,i+1)
    sns.countplot(x=df_cleaned[category[i]],hue ='Type',palette = 'Set2',data=df_cleaned)
    plt.xlabel(category[i])
    plt.xticks(rotation=45)
    plt.tight_layout()


# Which is the most popular app category?

df_cleaned['Category'].value_counts().plot.pie(y=df_cleaned['Category'],figsize = (20,18),autopct='%1.1f')


# Top Ten App Categories

category = pd.DataFrame(df['Category'].value_counts())
category.rename(columns = {'Category':'Count'},inplace=True)


plt.figure(figsize=(15,6))
sns.barplot(x= category.index[:10],y='count',data = category[:10],palette = 'hls',hue= 'Category')
plt.title('The top ten App Categories')
plt.xticks(rotation =90)
plt.show()




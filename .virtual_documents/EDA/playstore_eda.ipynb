


import pandas as pd 
import numpy as np
import matplotlib.pyplot as plt 
import seaborn as sns


df = pd.read_csv(r"C:\Users\Aaditya Khanal\OneDrive\Desktop\datasets\googleplaystore.csv")


df.head()


df.info()


df.describe()


df.isnull().sum()


# initial obeservation : Dataset has missing values


df.head(2)


# checking if all the values in the Reviews column are numerical
df['Reviews'].unique()


df['Reviews'].str.isnumeric().sum()


df[~df['Reviews'].str.isnumeric()]


#Data Cleaning
df_copy = df.copy()


df_copy = df_copy.drop(df_copy.index[10472])


df_copy[~df_copy['Reviews'].str.isnumeric()]


# Convert Review Datatype to int

df_copy['Reviews'] = df_copy['Reviews'].astype(np.int64)


df_copy.info()


df_copy['Size'].unique()


df_copy['Size'].isnull().sum()


df_copy['Size'] = df_copy['Size'].str.replace('M','000')
df_copy['Size'] = df_copy['Size'].str.replace('k','')
df_copy['Size'] = df_copy['Size'].replace('Varies with device',np.nan)
df_copy['Size'] = df_copy['Size'].astype(np.float64)


df_copy['Size']


df['Installs'].unique()


chars_to_remove = ['+',',','$']
cols_to_clean = ['Installs','Price']
for item in chars_to_remove:
    for cols in cols_to_clean:
        df_copy[cols]= df_copy[cols].str.replace(item,'')


df_copy['Installs'] = df_copy['Installs'].astype(np.int64) 
df_copy['Price'] = df_copy['Price'].astype(np.float64)


# handling last update feature
df_copy['Last Updated'].unique()


# convert datetime 

df_copy['Last Updated']= pd.to_datetime(df_copy['Last Updated'])
df_copy['Day'] = df_copy['Last Updated'].dt.day
df_copy['Month'] = df_copy['Last Updated'].dt.month
df_copy['Year'] = df_copy['Last Updated'].dt.year


df_copy.info()


df_copy.head()


df_copy.to_csv('')

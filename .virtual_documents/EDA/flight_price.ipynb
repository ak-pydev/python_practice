


import pandas as pd 
import numpy as np 
import matplotlib.pyplot as plt
import seaborn as sns


df = pd.read_excel(r"C:\Users\Aaditya Khanal\OneDrive\Desktop\datasets\flight_price.xlsx")


df.head()


df.info()


df.describe()


df.isnull().sum() # missing values


df.duplicated() # duplicate values


df.shape


# Feautre Engineering Process
df['Date'] = df['Date_of_Journey'].str.split('/').str[0]
df['Month'] = df['Date_of_Journey'].str.split('/').str[1]
df['Year'] = df['Date_of_Journey'].str.split('/').str[2]


df['Date'] = df['Date'].astype(np.int64)
df['Month'] = df['Month'].astype(np.int64)
df['Year'] = df['Year'].astype(np.int64)


df.drop('Date_of_Journey',axis = 1, inplace=True) # dropping date of journey


df['Arrival_Time'] = df['Arrival_Time'].apply(lambda x:x.split(' ')[0])


df['Arrival_Hour'] = df['Arrival_Time'].str.split(':').str[0]
df['Arrival_Minute'] = df['Arrival_Time'].str.split(':').str[1]


df['Arrival_Hour'] = df['Arrival_Hour'].astype(np.int64)
df['Arrival_Minute'] = df['Arrival_Minute'].astype(np.int64)


df.drop('Arrival_Time',axis = 1, inplace=True) # dropping date of journey


df['Dep_Hour'] = df['Dep_Time'].str.split(':').str[0]
df['Dep_Minute'] = df['Dep_Time'].str.split(':').str[1]


df['Dep_Hour'] = df['Dep_Hour'].astype(np.int64)
df['Dep_Minute'] = df['Dep_Minute'].astype(np.int64)


df.drop('Dep_Time',axis=1,inplace=True)


df.info()


df['Total_Stops'].unique()


df[df['Total_Stops'].isnull()] # only one record with nan value for total stops


df['Total_Stops'].mode()


df['Total_Stops'] = df['Total_Stops'].map({'non-stop':0, '2 stops':2, '1 stop':1, '3 stops':3, '4 stops':4,np.nan:1}) 


df[df['Total_Stops'].isnull()] # none exist


df.drop('Route',axis = 1, inplace=True)


df['Duration_h'] = df['Duration'].str.split(' ').str[0].str.split('h').str[0]


df['Duration_m']= df['Duration'].str.split(' ').str[1].str.split('m').str[0]


df['Duration_m'] = df['Duration_m'].fillna(0)


df.drop('Duration',axis=1,inplace=True)


from sklearn.preprocessing import OneHotEncoder


encoder = OneHotEncoder()


encoder.fit_transform(df[['Airline','Source','Destination']]).toarray()


pd.DataFrame(encoder.fit_transform(df[['Airline','Source','Destination']]).toarray(),columns = encoder.get_feature_names_out())

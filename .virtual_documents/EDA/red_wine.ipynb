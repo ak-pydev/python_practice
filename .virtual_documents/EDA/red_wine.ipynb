


import pandas as pd
import numpy as np


red_wine = pd.read_csv(r"C:\Users\Aaditya Khanal\OneDrive\Desktop\datasets\winequality-red.csv", sep = ';')
white_wine = pd.read_csv(r"C:\Users\Aaditya Khanal\OneDrive\Desktop\datasets\winequality-white.csv", sep = ';')


red_wine.head(5)


red_wine.info()


red_wine.describe() # descriptive summary


red_wine.shape


#list all columns
red_wine.columns


red_wine['quality'].unique()


#missing values
red_wine.isnull().sum() 


# checking duplicate records
red_wine[red_wine.duplicated()]


# removing duplicate records
red_wine.drop_duplicates(inplace=True)


red_wine.shape


# Correlation
red_wine.corr()


import seaborn as sns
import matplotlib.pyplot as plt


plt.figure(figsize=(10,6))
sns.heatmap(red_wine.corr(), annot=True,cmap='magma')


#Its an imabalanced dataset
red_wine.quality.value_counts()


# Visualization
red_wine.quality.value_counts().plot(kind='bar')
plt.xlabel("Wine Label")
plt.ylabel("Count")


# distribution for each feature

for column in red_wine.columns:
    sns.histplot(red_wine[column],kde=True)


sns.histplot(red_wine['alcohol'],kde='True')


# univariate, bivartiate , multivariate analysis
sns.pairplot(red_wine, hue="quality", palette="coolwarm")


# ctegorical plot

sns.catplot(x='quality',y='alcohol',data = red_wine, kind='box', hue = 'quality', palette='crest')


sns.scatterplot(x= 'alcohol',y='pH',hue='quality',palette='dark:salmon_r',data=red_wine)

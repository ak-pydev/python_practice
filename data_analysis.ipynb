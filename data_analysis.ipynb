{
 "cells": [
  {
   "cell_type": "markdown",
   "id": "aa4a3963",
   "metadata": {},
   "source": [
    "# Numpy in Python"
   ]
  },
  {
   "cell_type": "code",
   "execution_count": 3,
   "id": "52e22ce4",
   "metadata": {},
   "outputs": [
    {
     "name": "stdout",
     "output_type": "stream",
     "text": [
      "[1 2 3 4 5]\n",
      "<class 'numpy.ndarray'>\n",
      "(5,)\n"
     ]
    }
   ],
   "source": [
    "  #Create 1D array\n",
    "\n",
    "import numpy as np\n",
    "\n",
    "arry = np.array([1, 2, 3, 4, 5])\n",
    "print(arry)\n",
    "print(type(arry))\n",
    "print(arry.shape)"
   ]
  },
  {
   "cell_type": "code",
   "execution_count": 4,
   "id": "33aa1a35-adaf-4262-961c-49ab12396e38",
   "metadata": {},
   "outputs": [
    {
     "data": {
      "text/plain": [
       "array([[1, 2, 3, 4, 5]])"
      ]
     },
     "execution_count": 4,
     "metadata": {},
     "output_type": "execute_result"
    }
   ],
   "source": [
    "arr2 = np.array([1,2,3,4,5])\n",
    "arr2.reshape(1,5) # 1 row and 5 columns"
   ]
  },
  {
   "cell_type": "code",
   "execution_count": 5,
   "id": "d2d2696d-e6c3-4d1c-8395-d5ece28937c6",
   "metadata": {},
   "outputs": [
    {
     "data": {
      "text/plain": [
       "(1, 5)"
      ]
     },
     "execution_count": 5,
     "metadata": {},
     "output_type": "execute_result"
    }
   ],
   "source": [
    "arr2 = np.array([[1,2,3,4,5]])\n",
    "arr2.shape"
   ]
  },
  {
   "cell_type": "code",
   "execution_count": 6,
   "id": "ce4815fe-8ab9-43e7-af08-b63110167a37",
   "metadata": {},
   "outputs": [
    {
     "data": {
      "text/plain": [
       "(2, 5)"
      ]
     },
     "execution_count": 6,
     "metadata": {},
     "output_type": "execute_result"
    }
   ],
   "source": [
    "arr2 = np.array([[1,2,3,4,5],[6,7,8,9,10]])\n",
    "arr2.shape"
   ]
  },
  {
   "cell_type": "code",
   "execution_count": 7,
   "id": "03b4e677-23c9-45a5-bc27-077729271d8c",
   "metadata": {},
   "outputs": [
    {
     "data": {
      "text/plain": [
       "array([[0],\n",
       "       [2],\n",
       "       [4],\n",
       "       [6],\n",
       "       [8]])"
      ]
     },
     "execution_count": 7,
     "metadata": {},
     "output_type": "execute_result"
    }
   ],
   "source": [
    "array3 = np.arange(0,10,2).reshape(5,1)\n",
    "array3"
   ]
  },
  {
   "cell_type": "code",
   "execution_count": 8,
   "id": "b22bc1bc-a05b-4dd8-b5da-5510482208bf",
   "metadata": {},
   "outputs": [
    {
     "data": {
      "text/plain": [
       "array([[1., 1., 1., 1.],\n",
       "       [1., 1., 1., 1.],\n",
       "       [1., 1., 1., 1.]])"
      ]
     },
     "execution_count": 8,
     "metadata": {},
     "output_type": "execute_result"
    }
   ],
   "source": [
    "np.ones((3,4))"
   ]
  },
  {
   "cell_type": "code",
   "execution_count": 9,
   "id": "6768de97-cab8-4913-af27-d77116e2dd3c",
   "metadata": {},
   "outputs": [
    {
     "data": {
      "text/plain": [
       "array([[0., 0., 0., 0., 0.],\n",
       "       [0., 0., 0., 0., 0.],\n",
       "       [0., 0., 0., 0., 0.],\n",
       "       [0., 0., 0., 0., 0.]])"
      ]
     },
     "execution_count": 9,
     "metadata": {},
     "output_type": "execute_result"
    }
   ],
   "source": [
    "np.zeros((4,5))"
   ]
  },
  {
   "cell_type": "code",
   "execution_count": 10,
   "id": "24fc512b-b06a-424f-bf91-8b7df7061f9a",
   "metadata": {},
   "outputs": [
    {
     "data": {
      "text/plain": [
       "array([[1., 0., 0.],\n",
       "       [0., 1., 0.],\n",
       "       [0., 0., 1.]])"
      ]
     },
     "execution_count": 10,
     "metadata": {},
     "output_type": "execute_result"
    }
   ],
   "source": [
    "np.eye(3)"
   ]
  },
  {
   "cell_type": "code",
   "execution_count": 11,
   "id": "75f3dbc0-6f98-4867-875f-0ed72e5566ab",
   "metadata": {},
   "outputs": [
    {
     "data": {
      "text/plain": [
       "dtype('int64')"
      ]
     },
     "execution_count": 11,
     "metadata": {},
     "output_type": "execute_result"
    }
   ],
   "source": [
    "array3.dtype"
   ]
  },
  {
   "cell_type": "code",
   "execution_count": 12,
   "id": "a1fcf685-5193-42e5-a1d9-091eeb4ffcca",
   "metadata": {},
   "outputs": [
    {
     "data": {
      "text/plain": [
       "8"
      ]
     },
     "execution_count": 12,
     "metadata": {},
     "output_type": "execute_result"
    }
   ],
   "source": [
    "array3.itemsize"
   ]
  },
  {
   "cell_type": "code",
   "execution_count": 13,
   "id": "ec42f00a-3c56-43c7-b396-b06af0567d1b",
   "metadata": {},
   "outputs": [
    {
     "data": {
      "text/plain": [
       "2"
      ]
     },
     "execution_count": 13,
     "metadata": {},
     "output_type": "execute_result"
    }
   ],
   "source": [
    "array3.ndim"
   ]
  },
  {
   "cell_type": "code",
   "execution_count": 14,
   "id": "41dfc966-8e52-4842-9cb6-dcd1069699b1",
   "metadata": {},
   "outputs": [
    {
     "data": {
      "text/plain": [
       "5"
      ]
     },
     "execution_count": 14,
     "metadata": {},
     "output_type": "execute_result"
    }
   ],
   "source": [
    "array3.size"
   ]
  },
  {
   "cell_type": "code",
   "execution_count": 21,
   "id": "3603f176-ed79-412f-be8d-cc729d85e08a",
   "metadata": {},
   "outputs": [
    {
     "name": "stdout",
     "output_type": "stream",
     "text": [
      "Addition: [11 22 33 44 55]\n",
      "Substraction: [ -9 -18 -27 -36 -45]\n",
      "Multiplication: [ 10  40  90 160 250]\n",
      "Division: [0.1 0.1 0.1 0.1 0.1]\n"
     ]
    }
   ],
   "source": [
    "# Numpy Vectorized Operations\n",
    "\n",
    "array1 = np.array([1,2,3,4,5])\n",
    "array2 = np.array([10,20,30,40,50])\n",
    "\n",
    "print (\"Addition:\", array1 + array2)\n",
    "\n",
    "\n",
    "#Element wise opeartions\n",
    "\n",
    "print (\"Substraction:\", array1 - array2)\n",
    "print (\"Multiplication:\", array1 * array2)\n",
    "print (\"Division:\", array1 / array2)\n",
    "\n"
   ]
  },
  {
   "cell_type": "code",
   "execution_count": 24,
   "id": "7631bb38-457f-40a0-a9ac-c97ac7778da1",
   "metadata": {},
   "outputs": [
    {
     "name": "stdout",
     "output_type": "stream",
     "text": [
      "Square root: [3.16227766 4.47213595 5.47722558 6.32455532 7.07106781]\n",
      "Exponent: [2.20264658e+04 4.85165195e+08 1.06864746e+13 2.35385267e+17\n",
      " 5.18470553e+21]\n",
      "Sin: [-0.54402111  0.91294525 -0.98803162  0.74511316 -0.26237485]\n"
     ]
    }
   ],
   "source": [
    "#universal function\n",
    "\n",
    "print(\"Square root:\" ,np.sqrt(array2))\n",
    "print(\"Exponent:\" ,np.exp(array2))\n",
    "print(\"Sin:\" ,np.sin(array2))"
   ]
  },
  {
   "cell_type": "code",
   "execution_count": 44,
   "id": "ffbd2fc1-0a2c-4ffe-bfa3-05602e743802",
   "metadata": {},
   "outputs": [
    {
     "name": "stdout",
     "output_type": "stream",
     "text": [
      "Array:\n",
      " [[ 1  2  3  4]\n",
      " [ 5  6  7  8]\n",
      " [ 9 10 11 12]]\n",
      "3 12\n"
     ]
    }
   ],
   "source": [
    "# Array Slicing and Indexing\n",
    "\n",
    "arr = np.array([[1,2,3,4],[5,6,7,8],[9,10,11,12]])\n",
    "print(\"Array:\\n\", arr )\n",
    "print(arr[0][2],arr[2][3])\n"
   ]
  },
  {
   "cell_type": "code",
   "execution_count": 45,
   "id": "c49b555c-8bdd-4d32-8cc4-445348596a7d",
   "metadata": {},
   "outputs": [
    {
     "name": "stdout",
     "output_type": "stream",
     "text": [
      "[[ 7  8]\n",
      " [11 12]]\n"
     ]
    }
   ],
   "source": [
    "print(arr[1:,2:])"
   ]
  },
  {
   "cell_type": "code",
   "execution_count": 47,
   "id": "a5415727-dd7b-4efe-962f-3cad23f1450f",
   "metadata": {},
   "outputs": [
    {
     "name": "stdout",
     "output_type": "stream",
     "text": [
      "[[3 4]\n",
      " [7 8]]\n"
     ]
    }
   ],
   "source": [
    "print(arr[0:2,2:])"
   ]
  },
  {
   "cell_type": "code",
   "execution_count": 48,
   "id": "9bacf5d2-85fe-48e0-96dc-7fc880ef96fb",
   "metadata": {},
   "outputs": [
    {
     "name": "stdout",
     "output_type": "stream",
     "text": [
      "[[100   2   3   4]\n",
      " [  5   6   7   8]\n",
      " [  9  10  11  12]]\n"
     ]
    }
   ],
   "source": [
    "#Modify array elements\n",
    "\n",
    "arr[0,0] = 100\n",
    "print(arr)"
   ]
  },
  {
   "cell_type": "code",
   "execution_count": 49,
   "id": "84226fdc-a43e-4401-be48-af9c748eb9cc",
   "metadata": {},
   "outputs": [
    {
     "name": "stdout",
     "output_type": "stream",
     "text": [
      "[[100 100 100 100]\n",
      " [  5   6   7   8]\n",
      " [  9  10  11  12]]\n"
     ]
    }
   ],
   "source": [
    "#Modify array elements\n",
    "\n",
    "arr[0,1:] = 100\n",
    "print(arr)"
   ]
  },
  {
   "cell_type": "code",
   "execution_count": 52,
   "id": "72cccd19-6799-4d36-aed2-809e0ec0785b",
   "metadata": {},
   "outputs": [
    {
     "name": "stdout",
     "output_type": "stream",
     "text": [
      "Normalized Data:  [-1.41421356 -0.70710678  0.          0.70710678  1.41421356]\n"
     ]
    }
   ],
   "source": [
    "#Statistical concepts - Normalization\n",
    "\n",
    "data = np.array([1,2,3,4,5])\n",
    "\n",
    "mean = np.mean(data)\n",
    "std_dev = np.std(data)\n",
    "\n",
    "normalized_data = (data -  mean)/ std_dev\n",
    "\n",
    "print(\"Normalized Data: \", normalized_data)"
   ]
  },
  {
   "cell_type": "code",
   "execution_count": 53,
   "id": "9017ce12-28bd-4edf-b902-255c4d7830a6",
   "metadata": {},
   "outputs": [],
   "source": [
    "median = np.median(data)\n",
    "variance = np.var(data)"
   ]
  },
  {
   "cell_type": "markdown",
   "id": "ab349c61-717f-46bf-921e-8aaf884efd96",
   "metadata": {},
   "source": [
    " #Logical operations\n",
    "\n",
    "data2 = np.array([1,2,3,4,5,6,7,8,9,10])\n",
    "data2[(data2>=5) & (data2<=8)]"
   ]
  },
  {
   "cell_type": "markdown",
   "id": "0564ee5e-e3eb-4a82-b70d-1e597738ed37",
   "metadata": {},
   "source": [
    "# PANDAS- DataFrame and Series"
   ]
  },
  {
   "cell_type": "code",
   "execution_count": 61,
   "id": "c665dc32-656f-4ef9-b23f-f89223e74c00",
   "metadata": {},
   "outputs": [],
   "source": [
    " import pandas as pd"
   ]
  },
  {
   "cell_type": "code",
   "execution_count": 62,
   "id": "f4ce6dbb-a9dd-416a-92a5-cbf88ba5df52",
   "metadata": {},
   "outputs": [
    {
     "name": "stdout",
     "output_type": "stream",
     "text": [
      "Series \n",
      " 0    1\n",
      "1    2\n",
      "2    3\n",
      "3    4\n",
      "4    5\n",
      "dtype: int64\n"
     ]
    }
   ],
   "source": [
    "# Series 1D-array that can hold any datatype\n",
    "\n",
    "data = [1,2,3,4,5]\n",
    "series = pd.Series(data)\n",
    "print(\"Series \\n\",series)"
   ]
  },
  {
   "cell_type": "code",
   "execution_count": 63,
   "id": "4c0176ca-7f53-4718-9044-1f8b1fce482d",
   "metadata": {},
   "outputs": [
    {
     "name": "stdout",
     "output_type": "stream",
     "text": [
      "a    1\n",
      "b    2\n",
      "c    3\n",
      "dtype: int64\n"
     ]
    }
   ],
   "source": [
    "#Create a series from dictionary\n",
    "data_dict = {'a':1,'b':2,'c':3}\n",
    "series_dict = pd.Series(data_dict)\n",
    "print(series_dict)"
   ]
  },
  {
   "cell_type": "code",
   "execution_count": 65,
   "id": "f8516507-5300-461a-8e51-8ee4d114f962",
   "metadata": {},
   "outputs": [
    {
     "data": {
      "text/plain": [
       "a    10\n",
       "b    20\n",
       "c    30\n",
       "dtype: int64"
      ]
     },
     "execution_count": 65,
     "metadata": {},
     "output_type": "execute_result"
    }
   ],
   "source": [
    "data = [10,20,30]\n",
    "index = ['a','b','c']\n",
    "\n",
    "pd.Series(data,index=index)\n"
   ]
  },
  {
   "cell_type": "code",
   "execution_count": 71,
   "id": "49c8f3ca-33d1-4bf5-85e2-7940387042dc",
   "metadata": {},
   "outputs": [
    {
     "name": "stdout",
     "output_type": "stream",
     "text": [
      "    Name  Age        City\n",
      "0     AK   21  Cincinnati\n",
      "1     PP   21      Denver\n",
      "2  Krish   33    Banglore\n"
     ]
    }
   ],
   "source": [
    "#DataFrame\n",
    "\n",
    "#create a DataFrame from Dictionary\n",
    "\n",
    "data = {\n",
    "    'Name':['AK','PP','Krish'],\n",
    "    'Age': [21,21,33],\n",
    "    'City': ['Cincinnati','Denver','Banglore']\n",
    "}\n",
    "df = pd.DataFrame(data)\n",
    "print(df)"
   ]
  },
  {
   "cell_type": "code",
   "execution_count": 98,
   "id": "f4a924a6-a9a9-4900-adab-9147f4dc6a1f",
   "metadata": {},
   "outputs": [
    {
     "name": "stdout",
     "output_type": "stream",
     "text": [
      "    Name  Age        City\n",
      "0     AK   21  Cincinnati\n",
      "1     PP   21      Denver\n",
      "2  Krish   33    Banglore\n"
     ]
    }
   ],
   "source": [
    "data2 = [\n",
    "    {'Name':'AK','Age':21,'City':'Cincinnati'},\n",
    "    {'Name':'PP','Age':21,'City':'Denver'},\n",
    "    {'Name':'Krish','Age':33,'City':'Banglore'}\n",
    "]\n",
    "df2 = pd.DataFrame(data2)\n",
    "print(df2)"
   ]
  },
  {
   "cell_type": "code",
   "execution_count": 99,
   "id": "987c62aa-1a07-4a7f-9fd2-a9b170475176",
   "metadata": {},
   "outputs": [
    {
     "data": {
      "text/plain": [
       "0       AK\n",
       "1       PP\n",
       "2    Krish\n",
       "Name: Name, dtype: object"
      ]
     },
     "execution_count": 99,
     "metadata": {},
     "output_type": "execute_result"
    }
   ],
   "source": [
    "df2['Name']\n"
   ]
  },
  {
   "cell_type": "code",
   "execution_count": 100,
   "id": "7ea5be67-d2b8-4692-8e10-89979c0a42e3",
   "metadata": {},
   "outputs": [
    {
     "data": {
      "text/plain": [
       "Name            AK\n",
       "Age             21\n",
       "City    Cincinnati\n",
       "Name: 0, dtype: object"
      ]
     },
     "execution_count": 100,
     "metadata": {},
     "output_type": "execute_result"
    }
   ],
   "source": [
    "df2.loc[0]"
   ]
  },
  {
   "cell_type": "code",
   "execution_count": 101,
   "id": "7bfd4d54-3832-464c-9188-10f4c55e2256",
   "metadata": {},
   "outputs": [
    {
     "data": {
      "text/plain": [
       "Name        PP\n",
       "Age         21\n",
       "City    Denver\n",
       "Name: 1, dtype: object"
      ]
     },
     "execution_count": 101,
     "metadata": {},
     "output_type": "execute_result"
    }
   ],
   "source": [
    "df2.iloc[1]"
   ]
  },
  {
   "cell_type": "code",
   "execution_count": 102,
   "id": "8288d7fb-0fb1-4743-a44d-59dfbf1a5396",
   "metadata": {},
   "outputs": [
    {
     "data": {
      "text/plain": [
       "np.int64(21)"
      ]
     },
     "execution_count": 102,
     "metadata": {},
     "output_type": "execute_result"
    }
   ],
   "source": [
    "df2.at[1,'Age']"
   ]
  },
  {
   "cell_type": "code",
   "execution_count": 103,
   "id": "20e59b49-fbf2-4783-8d63-58a6345aa20b",
   "metadata": {},
   "outputs": [
    {
     "data": {
      "text/plain": [
       "'Banglore'"
      ]
     },
     "execution_count": 103,
     "metadata": {},
     "output_type": "execute_result"
    }
   ],
   "source": [
    "df2.iat[2,2]"
   ]
  },
  {
   "cell_type": "code",
   "execution_count": 104,
   "id": "37aae902-149d-4d54-acc2-db84f4c71f4a",
   "metadata": {},
   "outputs": [],
   "source": [
    "#Adding a column\n",
    "df2['Salary'] = [50000,60000,70000]\n",
    "df2"
   ]
  },
  {
   "cell_type": "code",
   "execution_count": 105,
   "id": "343bed40-a179-46c2-a770-b5b37e1ced96",
   "metadata": {},
   "outputs": [],
   "source": [
    "df2.drop('Salary',axis = 1,inplace=True)"
   ]
  },
  {
   "cell_type": "code",
   "execution_count": 106,
   "id": "5517dce9-be79-4d35-88f2-40637a638a67",
   "metadata": {},
   "outputs": [
    {
     "data": {
      "text/html": [
       "<div>\n",
       "<style scoped>\n",
       "    .dataframe tbody tr th:only-of-type {\n",
       "        vertical-align: middle;\n",
       "    }\n",
       "\n",
       "    .dataframe tbody tr th {\n",
       "        vertical-align: top;\n",
       "    }\n",
       "\n",
       "    .dataframe thead th {\n",
       "        text-align: right;\n",
       "    }\n",
       "</style>\n",
       "<table border=\"1\" class=\"dataframe\">\n",
       "  <thead>\n",
       "    <tr style=\"text-align: right;\">\n",
       "      <th></th>\n",
       "      <th>Name</th>\n",
       "      <th>Age</th>\n",
       "      <th>City</th>\n",
       "    </tr>\n",
       "  </thead>\n",
       "  <tbody>\n",
       "    <tr>\n",
       "      <th>0</th>\n",
       "      <td>AK</td>\n",
       "      <td>21</td>\n",
       "      <td>Cincinnati</td>\n",
       "    </tr>\n",
       "    <tr>\n",
       "      <th>1</th>\n",
       "      <td>PP</td>\n",
       "      <td>21</td>\n",
       "      <td>Denver</td>\n",
       "    </tr>\n",
       "    <tr>\n",
       "      <th>2</th>\n",
       "      <td>Krish</td>\n",
       "      <td>33</td>\n",
       "      <td>Banglore</td>\n",
       "    </tr>\n",
       "  </tbody>\n",
       "</table>\n",
       "</div>"
      ],
      "text/plain": [
       "    Name  Age        City\n",
       "0     AK   21  Cincinnati\n",
       "1     PP   21      Denver\n",
       "2  Krish   33    Banglore"
      ]
     },
     "execution_count": 106,
     "metadata": {},
     "output_type": "execute_result"
    }
   ],
   "source": [
    "df2"
   ]
  },
  {
   "cell_type": "code",
   "execution_count": null,
   "id": "3b9139b3-468f-44a9-bc5d-1d8b317ce8f8",
   "metadata": {},
   "outputs": [],
   "source": [
    "read_csv_data = pd.read_csv(\"FILE_PATH\")\n",
    "read_csv_data.head(10)"
   ]
  }
 ],
 "metadata": {
  "kernelspec": {
   "display_name": "Python 3",
   "language": "python",
   "name": "python3"
  },
  "language_info": {
   "codemirror_mode": {
    "name": "ipython",
    "version": 3
   },
   "file_extension": ".py",
   "mimetype": "text/x-python",
   "name": "python",
   "nbconvert_exporter": "python",
   "pygments_lexer": "ipython3",
   "version": "3.12.0"
  }
 },
 "nbformat": 4,
 "nbformat_minor": 5
}

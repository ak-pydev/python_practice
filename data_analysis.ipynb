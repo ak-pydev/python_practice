{
 "cells": [
  {
   "cell_type": "markdown",
   "id": "aa4a3963",
   "metadata": {},
   "source": [
    "# Numpy in Python"
   ]
  },
  {
   "cell_type": "code",
   "execution_count": 3,
   "id": "52e22ce4",
   "metadata": {},
   "outputs": [
    {
     "name": "stdout",
     "output_type": "stream",
     "text": [
      "[1 2 3 4 5]\n",
      "<class 'numpy.ndarray'>\n",
      "(5,)\n"
     ]
    }
   ],
   "source": [
    "  #Create 1D array\n",
    "\n",
    "import numpy as np\n",
    "\n",
    "arry = np.array([1, 2, 3, 4, 5])\n",
    "print(arry)\n",
    "print(type(arry))\n",
    "print(arry.shape)"
   ]
  },
  {
   "cell_type": "code",
   "execution_count": 4,
   "id": "33aa1a35-adaf-4262-961c-49ab12396e38",
   "metadata": {},
   "outputs": [
    {
     "data": {
      "text/plain": [
       "array([[1, 2, 3, 4, 5]])"
      ]
     },
     "execution_count": 4,
     "metadata": {},
     "output_type": "execute_result"
    }
   ],
   "source": [
    "arr2 = np.array([1,2,3,4,5])\n",
    "arr2.reshape(1,5) # 1 row and 5 columns"
   ]
  },
  {
   "cell_type": "code",
   "execution_count": 5,
   "id": "d2d2696d-e6c3-4d1c-8395-d5ece28937c6",
   "metadata": {},
   "outputs": [
    {
     "data": {
      "text/plain": [
       "(1, 5)"
      ]
     },
     "execution_count": 5,
     "metadata": {},
     "output_type": "execute_result"
    }
   ],
   "source": [
    "arr2 = np.array([[1,2,3,4,5]])\n",
    "arr2.shape"
   ]
  },
  {
   "cell_type": "code",
   "execution_count": 6,
   "id": "ce4815fe-8ab9-43e7-af08-b63110167a37",
   "metadata": {},
   "outputs": [
    {
     "data": {
      "text/plain": [
       "(2, 5)"
      ]
     },
     "execution_count": 6,
     "metadata": {},
     "output_type": "execute_result"
    }
   ],
   "source": [
    "arr2 = np.array([[1,2,3,4,5],[6,7,8,9,10]])\n",
    "arr2.shape"
   ]
  },
  {
   "cell_type": "code",
   "execution_count": 7,
   "id": "03b4e677-23c9-45a5-bc27-077729271d8c",
   "metadata": {},
   "outputs": [
    {
     "data": {
      "text/plain": [
       "array([[0],\n",
       "       [2],\n",
       "       [4],\n",
       "       [6],\n",
       "       [8]])"
      ]
     },
     "execution_count": 7,
     "metadata": {},
     "output_type": "execute_result"
    }
   ],
   "source": [
    "array3 = np.arange(0,10,2).reshape(5,1)\n",
    "array3"
   ]
  },
  {
   "cell_type": "code",
   "execution_count": 8,
   "id": "b22bc1bc-a05b-4dd8-b5da-5510482208bf",
   "metadata": {},
   "outputs": [
    {
     "data": {
      "text/plain": [
       "array([[1., 1., 1., 1.],\n",
       "       [1., 1., 1., 1.],\n",
       "       [1., 1., 1., 1.]])"
      ]
     },
     "execution_count": 8,
     "metadata": {},
     "output_type": "execute_result"
    }
   ],
   "source": [
    "np.ones((3,4))"
   ]
  },
  {
   "cell_type": "code",
   "execution_count": 9,
   "id": "6768de97-cab8-4913-af27-d77116e2dd3c",
   "metadata": {},
   "outputs": [
    {
     "data": {
      "text/plain": [
       "array([[0., 0., 0., 0., 0.],\n",
       "       [0., 0., 0., 0., 0.],\n",
       "       [0., 0., 0., 0., 0.],\n",
       "       [0., 0., 0., 0., 0.]])"
      ]
     },
     "execution_count": 9,
     "metadata": {},
     "output_type": "execute_result"
    }
   ],
   "source": [
    "np.zeros((4,5))"
   ]
  },
  {
   "cell_type": "code",
   "execution_count": 10,
   "id": "24fc512b-b06a-424f-bf91-8b7df7061f9a",
   "metadata": {},
   "outputs": [
    {
     "data": {
      "text/plain": [
       "array([[1., 0., 0.],\n",
       "       [0., 1., 0.],\n",
       "       [0., 0., 1.]])"
      ]
     },
     "execution_count": 10,
     "metadata": {},
     "output_type": "execute_result"
    }
   ],
   "source": [
    "np.eye(3)"
   ]
  },
  {
   "cell_type": "code",
   "execution_count": 11,
   "id": "75f3dbc0-6f98-4867-875f-0ed72e5566ab",
   "metadata": {},
   "outputs": [
    {
     "data": {
      "text/plain": [
       "dtype('int64')"
      ]
     },
     "execution_count": 11,
     "metadata": {},
     "output_type": "execute_result"
    }
   ],
   "source": [
    "array3.dtype"
   ]
  },
  {
   "cell_type": "code",
   "execution_count": 12,
   "id": "a1fcf685-5193-42e5-a1d9-091eeb4ffcca",
   "metadata": {},
   "outputs": [
    {
     "data": {
      "text/plain": [
       "8"
      ]
     },
     "execution_count": 12,
     "metadata": {},
     "output_type": "execute_result"
    }
   ],
   "source": [
    "array3.itemsize"
   ]
  },
  {
   "cell_type": "code",
   "execution_count": 13,
   "id": "ec42f00a-3c56-43c7-b396-b06af0567d1b",
   "metadata": {},
   "outputs": [
    {
     "data": {
      "text/plain": [
       "2"
      ]
     },
     "execution_count": 13,
     "metadata": {},
     "output_type": "execute_result"
    }
   ],
   "source": [
    "array3.ndim"
   ]
  },
  {
   "cell_type": "code",
   "execution_count": 14,
   "id": "41dfc966-8e52-4842-9cb6-dcd1069699b1",
   "metadata": {},
   "outputs": [
    {
     "data": {
      "text/plain": [
       "5"
      ]
     },
     "execution_count": 14,
     "metadata": {},
     "output_type": "execute_result"
    }
   ],
   "source": [
    "array3.size"
   ]
  },
  {
   "cell_type": "code",
   "execution_count": 21,
   "id": "3603f176-ed79-412f-be8d-cc729d85e08a",
   "metadata": {},
   "outputs": [
    {
     "name": "stdout",
     "output_type": "stream",
     "text": [
      "Addition: [11 22 33 44 55]\n",
      "Substraction: [ -9 -18 -27 -36 -45]\n",
      "Multiplication: [ 10  40  90 160 250]\n",
      "Division: [0.1 0.1 0.1 0.1 0.1]\n"
     ]
    }
   ],
   "source": [
    "# Numpy Vectorized Operations\n",
    "\n",
    "array1 = np.array([1,2,3,4,5])\n",
    "array2 = np.array([10,20,30,40,50])\n",
    "\n",
    "print (\"Addition:\", array1 + array2)\n",
    "\n",
    "\n",
    "#Element wise opeartions\n",
    "\n",
    "print (\"Substraction:\", array1 - array2)\n",
    "print (\"Multiplication:\", array1 * array2)\n",
    "print (\"Division:\", array1 / array2)\n",
    "\n"
   ]
  },
  {
   "cell_type": "code",
   "execution_count": 24,
   "id": "7631bb38-457f-40a0-a9ac-c97ac7778da1",
   "metadata": {},
   "outputs": [
    {
     "name": "stdout",
     "output_type": "stream",
     "text": [
      "Square root: [3.16227766 4.47213595 5.47722558 6.32455532 7.07106781]\n",
      "Exponent: [2.20264658e+04 4.85165195e+08 1.06864746e+13 2.35385267e+17\n",
      " 5.18470553e+21]\n",
      "Sin: [-0.54402111  0.91294525 -0.98803162  0.74511316 -0.26237485]\n"
     ]
    }
   ],
   "source": [
    "#universal function\n",
    "\n",
    "print(\"Square root:\" ,np.sqrt(array2))\n",
    "print(\"Exponent:\" ,np.exp(array2))\n",
    "print(\"Sin:\" ,np.sin(array2))"
   ]
  },
  {
   "cell_type": "code",
   "execution_count": 44,
   "id": "ffbd2fc1-0a2c-4ffe-bfa3-05602e743802",
   "metadata": {},
   "outputs": [
    {
     "name": "stdout",
     "output_type": "stream",
     "text": [
      "Array:\n",
      " [[ 1  2  3  4]\n",
      " [ 5  6  7  8]\n",
      " [ 9 10 11 12]]\n",
      "3 12\n"
     ]
    }
   ],
   "source": [
    "# Array Slicing and Indexing\n",
    "\n",
    "arr = np.array([[1,2,3,4],[5,6,7,8],[9,10,11,12]])\n",
    "print(\"Array:\\n\", arr )\n",
    "print(arr[0][2],arr[2][3])\n"
   ]
  },
  {
   "cell_type": "code",
   "execution_count": 45,
   "id": "c49b555c-8bdd-4d32-8cc4-445348596a7d",
   "metadata": {},
   "outputs": [
    {
     "name": "stdout",
     "output_type": "stream",
     "text": [
      "[[ 7  8]\n",
      " [11 12]]\n"
     ]
    }
   ],
   "source": [
    "print(arr[1:,2:])"
   ]
  },
  {
   "cell_type": "code",
   "execution_count": 47,
   "id": "a5415727-dd7b-4efe-962f-3cad23f1450f",
   "metadata": {},
   "outputs": [
    {
     "name": "stdout",
     "output_type": "stream",
     "text": [
      "[[3 4]\n",
      " [7 8]]\n"
     ]
    }
   ],
   "source": [
    "print(arr[0:2,2:])"
   ]
  },
  {
   "cell_type": "code",
   "execution_count": 48,
   "id": "9bacf5d2-85fe-48e0-96dc-7fc880ef96fb",
   "metadata": {},
   "outputs": [
    {
     "name": "stdout",
     "output_type": "stream",
     "text": [
      "[[100   2   3   4]\n",
      " [  5   6   7   8]\n",
      " [  9  10  11  12]]\n"
     ]
    }
   ],
   "source": [
    "#Modify array elements\n",
    "\n",
    "arr[0,0] = 100\n",
    "print(arr)"
   ]
  },
  {
   "cell_type": "code",
   "execution_count": 49,
   "id": "84226fdc-a43e-4401-be48-af9c748eb9cc",
   "metadata": {},
   "outputs": [
    {
     "name": "stdout",
     "output_type": "stream",
     "text": [
      "[[100 100 100 100]\n",
      " [  5   6   7   8]\n",
      " [  9  10  11  12]]\n"
     ]
    }
   ],
   "source": [
    "#Modify array elements\n",
    "\n",
    "arr[0,1:] = 100\n",
    "print(arr)"
   ]
  },
  {
   "cell_type": "code",
   "execution_count": 52,
   "id": "72cccd19-6799-4d36-aed2-809e0ec0785b",
   "metadata": {},
   "outputs": [
    {
     "name": "stdout",
     "output_type": "stream",
     "text": [
      "Normalized Data:  [-1.41421356 -0.70710678  0.          0.70710678  1.41421356]\n"
     ]
    }
   ],
   "source": [
    "#Statistical concepts - Normalization\n",
    "\n",
    "data = np.array([1,2,3,4,5])\n",
    "\n",
    "mean = np.mean(data)\n",
    "std_dev = np.std(data)\n",
    "\n",
    "normalized_data = (data -  mean)/ std_dev\n",
    "\n",
    "print(\"Normalized Data: \", normalized_data)"
   ]
  },
  {
   "cell_type": "code",
   "execution_count": 53,
   "id": "9017ce12-28bd-4edf-b902-255c4d7830a6",
   "metadata": {},
   "outputs": [],
   "source": [
    "median = np.median(data)\n",
    "variance = np.var(data)"
   ]
  },
  {
   "cell_type": "markdown",
   "id": "ab349c61-717f-46bf-921e-8aaf884efd96",
   "metadata": {},
   "source": [
    " #Logical operations\n",
    "\n",
    "data2 = np.array([1,2,3,4,5,6,7,8,9,10])\n",
    "data2[(data2>=5) & (data2<=8)]"
   ]
  },
  {
   "cell_type": "markdown",
   "id": "0564ee5e-e3eb-4a82-b70d-1e597738ed37",
   "metadata": {},
   "source": [
    "# PANDAS- DataFrame and Series"
   ]
  },
  {
   "cell_type": "code",
   "execution_count": 61,
   "id": "c665dc32-656f-4ef9-b23f-f89223e74c00",
   "metadata": {},
   "outputs": [],
   "source": [
    " import pandas as pd"
   ]
  },
  {
   "cell_type": "code",
   "execution_count": 62,
   "id": "f4ce6dbb-a9dd-416a-92a5-cbf88ba5df52",
   "metadata": {},
   "outputs": [
    {
     "name": "stdout",
     "output_type": "stream",
     "text": [
      "Series \n",
      " 0    1\n",
      "1    2\n",
      "2    3\n",
      "3    4\n",
      "4    5\n",
      "dtype: int64\n"
     ]
    }
   ],
   "source": [
    "# Series 1D-array that can hold any datatype\n",
    "\n",
    "data = [1,2,3,4,5]\n",
    "series = pd.Series(data)\n",
    "print(\"Series \\n\",series)"
   ]
  },
  {
   "cell_type": "code",
   "execution_count": 63,
   "id": "4c0176ca-7f53-4718-9044-1f8b1fce482d",
   "metadata": {},
   "outputs": [
    {
     "name": "stdout",
     "output_type": "stream",
     "text": [
      "a    1\n",
      "b    2\n",
      "c    3\n",
      "dtype: int64\n"
     ]
    }
   ],
   "source": [
    "#Create a series from dictionary\n",
    "data_dict = {'a':1,'b':2,'c':3}\n",
    "series_dict = pd.Series(data_dict)\n",
    "print(series_dict)"
   ]
  },
  {
   "cell_type": "code",
   "execution_count": 65,
   "id": "f8516507-5300-461a-8e51-8ee4d114f962",
   "metadata": {},
   "outputs": [
    {
     "data": {
      "text/plain": [
       "a    10\n",
       "b    20\n",
       "c    30\n",
       "dtype: int64"
      ]
     },
     "execution_count": 65,
     "metadata": {},
     "output_type": "execute_result"
    }
   ],
   "source": [
    "data = [10,20,30]\n",
    "index = ['a','b','c']\n",
    "\n",
    "pd.Series(data,index=index)\n"
   ]
  },
  {
   "cell_type": "code",
   "execution_count": 71,
   "id": "49c8f3ca-33d1-4bf5-85e2-7940387042dc",
   "metadata": {},
   "outputs": [
    {
     "name": "stdout",
     "output_type": "stream",
     "text": [
      "    Name  Age        City\n",
      "0     AK   21  Cincinnati\n",
      "1     PP   21      Denver\n",
      "2  Krish   33    Banglore\n"
     ]
    }
   ],
   "source": [
    "#DataFrame\n",
    "\n",
    "#create a DataFrame from Dictionary\n",
    "\n",
    "data = {\n",
    "    'Name':['AK','PP','Krish'],\n",
    "    'Age': [21,21,33],\n",
    "    'City': ['Cincinnati','Denver','Banglore']\n",
    "}\n",
    "df = pd.DataFrame(data)\n",
    "print(df)"
   ]
  },
  {
   "cell_type": "code",
   "execution_count": 98,
   "id": "f4a924a6-a9a9-4900-adab-9147f4dc6a1f",
   "metadata": {},
   "outputs": [
    {
     "name": "stdout",
     "output_type": "stream",
     "text": [
      "    Name  Age        City\n",
      "0     AK   21  Cincinnati\n",
      "1     PP   21      Denver\n",
      "2  Krish   33    Banglore\n"
     ]
    }
   ],
   "source": [
    "data2 = [\n",
    "    {'Name':'AK','Age':21,'City':'Cincinnati'},\n",
    "    {'Name':'PP','Age':21,'City':'Denver'},\n",
    "    {'Name':'Krish','Age':33,'City':'Banglore'}\n",
    "]\n",
    "df2 = pd.DataFrame(data2)\n",
    "print(df2)"
   ]
  },
  {
   "cell_type": "code",
   "execution_count": 99,
   "id": "987c62aa-1a07-4a7f-9fd2-a9b170475176",
   "metadata": {},
   "outputs": [
    {
     "data": {
      "text/plain": [
       "0       AK\n",
       "1       PP\n",
       "2    Krish\n",
       "Name: Name, dtype: object"
      ]
     },
     "execution_count": 99,
     "metadata": {},
     "output_type": "execute_result"
    }
   ],
   "source": [
    "df2['Name']\n"
   ]
  },
  {
   "cell_type": "code",
   "execution_count": 100,
   "id": "7ea5be67-d2b8-4692-8e10-89979c0a42e3",
   "metadata": {},
   "outputs": [
    {
     "data": {
      "text/plain": [
       "Name            AK\n",
       "Age             21\n",
       "City    Cincinnati\n",
       "Name: 0, dtype: object"
      ]
     },
     "execution_count": 100,
     "metadata": {},
     "output_type": "execute_result"
    }
   ],
   "source": [
    "df2.loc[0]"
   ]
  },
  {
   "cell_type": "code",
   "execution_count": 101,
   "id": "7bfd4d54-3832-464c-9188-10f4c55e2256",
   "metadata": {},
   "outputs": [
    {
     "data": {
      "text/plain": [
       "Name        PP\n",
       "Age         21\n",
       "City    Denver\n",
       "Name: 1, dtype: object"
      ]
     },
     "execution_count": 101,
     "metadata": {},
     "output_type": "execute_result"
    }
   ],
   "source": [
    "df2.iloc[1]"
   ]
  },
  {
   "cell_type": "code",
   "execution_count": 102,
   "id": "8288d7fb-0fb1-4743-a44d-59dfbf1a5396",
   "metadata": {},
   "outputs": [
    {
     "data": {
      "text/plain": [
       "np.int64(21)"
      ]
     },
     "execution_count": 102,
     "metadata": {},
     "output_type": "execute_result"
    }
   ],
   "source": [
    "df2.at[1,'Age']"
   ]
  },
  {
   "cell_type": "code",
   "execution_count": 103,
   "id": "20e59b49-fbf2-4783-8d63-58a6345aa20b",
   "metadata": {},
   "outputs": [
    {
     "data": {
      "text/plain": [
       "'Banglore'"
      ]
     },
     "execution_count": 103,
     "metadata": {},
     "output_type": "execute_result"
    }
   ],
   "source": [
    "df2.iat[2,2]"
   ]
  },
  {
   "cell_type": "code",
   "execution_count": 104,
   "id": "37aae902-149d-4d54-acc2-db84f4c71f4a",
   "metadata": {},
   "outputs": [],
   "source": [
    "#Adding a column\n",
    "df2['Salary'] = [50000,60000,70000]\n",
    "df2"
   ]
  },
  {
   "cell_type": "code",
   "execution_count": 105,
   "id": "343bed40-a179-46c2-a770-b5b37e1ced96",
   "metadata": {},
   "outputs": [],
   "source": [
    "df2.drop('Salary',axis = 1,inplace=True)"
   ]
  },
  {
   "cell_type": "code",
   "execution_count": 106,
   "id": "5517dce9-be79-4d35-88f2-40637a638a67",
   "metadata": {},
   "outputs": [
    {
     "data": {
      "text/html": [
       "<div>\n",
       "<style scoped>\n",
       "    .dataframe tbody tr th:only-of-type {\n",
       "        vertical-align: middle;\n",
       "    }\n",
       "\n",
       "    .dataframe tbody tr th {\n",
       "        vertical-align: top;\n",
       "    }\n",
       "\n",
       "    .dataframe thead th {\n",
       "        text-align: right;\n",
       "    }\n",
       "</style>\n",
       "<table border=\"1\" class=\"dataframe\">\n",
       "  <thead>\n",
       "    <tr style=\"text-align: right;\">\n",
       "      <th></th>\n",
       "      <th>Name</th>\n",
       "      <th>Age</th>\n",
       "      <th>City</th>\n",
       "    </tr>\n",
       "  </thead>\n",
       "  <tbody>\n",
       "    <tr>\n",
       "      <th>0</th>\n",
       "      <td>AK</td>\n",
       "      <td>21</td>\n",
       "      <td>Cincinnati</td>\n",
       "    </tr>\n",
       "    <tr>\n",
       "      <th>1</th>\n",
       "      <td>PP</td>\n",
       "      <td>21</td>\n",
       "      <td>Denver</td>\n",
       "    </tr>\n",
       "    <tr>\n",
       "      <th>2</th>\n",
       "      <td>Krish</td>\n",
       "      <td>33</td>\n",
       "      <td>Banglore</td>\n",
       "    </tr>\n",
       "  </tbody>\n",
       "</table>\n",
       "</div>"
      ],
      "text/plain": [
       "    Name  Age        City\n",
       "0     AK   21  Cincinnati\n",
       "1     PP   21      Denver\n",
       "2  Krish   33    Banglore"
      ]
     },
     "execution_count": 106,
     "metadata": {},
     "output_type": "execute_result"
    }
   ],
   "source": [
    "df2"
   ]
  },
  {
   "cell_type": "code",
   "execution_count": null,
   "id": "3b9139b3-468f-44a9-bc5d-1d8b317ce8f8",
   "metadata": {},
   "outputs": [],
   "source": [
    "read_csv_data = pd.read_csv(\"FILE_PATH\")\n",
    "read_csv_data.head(10)"
   ]
  },
  {
   "cell_type": "markdown",
   "id": "fefcb7d1",
   "metadata": {},
   "source": [
    "# Data Manupulation and Analysis with Pandas"
   ]
  },
  {
   "cell_type": "code",
   "execution_count": 42,
   "id": "040ab732",
   "metadata": {},
   "outputs": [],
   "source": [
    "import pandas as pd"
   ]
  },
  {
   "cell_type": "code",
   "execution_count": 43,
   "id": "aa78d342",
   "metadata": {},
   "outputs": [],
   "source": [
    "df  = pd.read_csv(\"sales_data.csv\") "
   ]
  },
  {
   "cell_type": "code",
   "execution_count": 44,
   "id": "45c431ba-ce13-4466-99ba-6ba17e3dd967",
   "metadata": {},
   "outputs": [
    {
     "data": {
      "text/html": [
       "<div>\n",
       "<style scoped>\n",
       "    .dataframe tbody tr th:only-of-type {\n",
       "        vertical-align: middle;\n",
       "    }\n",
       "\n",
       "    .dataframe tbody tr th {\n",
       "        vertical-align: top;\n",
       "    }\n",
       "\n",
       "    .dataframe thead th {\n",
       "        text-align: right;\n",
       "    }\n",
       "</style>\n",
       "<table border=\"1\" class=\"dataframe\">\n",
       "  <thead>\n",
       "    <tr style=\"text-align: right;\">\n",
       "      <th></th>\n",
       "      <th>Group</th>\n",
       "      <th>Customer_Segment</th>\n",
       "      <th>Sales_Before</th>\n",
       "      <th>Sales_After</th>\n",
       "      <th>Customer_Satisfaction_Before</th>\n",
       "      <th>Customer_Satisfaction_After</th>\n",
       "      <th>Purchase_Made</th>\n",
       "    </tr>\n",
       "  </thead>\n",
       "  <tbody>\n",
       "    <tr>\n",
       "      <th>0</th>\n",
       "      <td>Control</td>\n",
       "      <td>High Value</td>\n",
       "      <td>240.548359</td>\n",
       "      <td>300.007568</td>\n",
       "      <td>74.684767</td>\n",
       "      <td>NaN</td>\n",
       "      <td>No</td>\n",
       "    </tr>\n",
       "    <tr>\n",
       "      <th>1</th>\n",
       "      <td>Treatment</td>\n",
       "      <td>High Value</td>\n",
       "      <td>246.862114</td>\n",
       "      <td>381.337555</td>\n",
       "      <td>100.000000</td>\n",
       "      <td>100.000000</td>\n",
       "      <td>Yes</td>\n",
       "    </tr>\n",
       "    <tr>\n",
       "      <th>2</th>\n",
       "      <td>Control</td>\n",
       "      <td>High Value</td>\n",
       "      <td>156.978084</td>\n",
       "      <td>179.330464</td>\n",
       "      <td>98.780735</td>\n",
       "      <td>100.000000</td>\n",
       "      <td>No</td>\n",
       "    </tr>\n",
       "    <tr>\n",
       "      <th>3</th>\n",
       "      <td>Control</td>\n",
       "      <td>Medium Value</td>\n",
       "      <td>192.126708</td>\n",
       "      <td>229.278031</td>\n",
       "      <td>49.333766</td>\n",
       "      <td>39.811841</td>\n",
       "      <td>Yes</td>\n",
       "    </tr>\n",
       "    <tr>\n",
       "      <th>4</th>\n",
       "      <td>NaN</td>\n",
       "      <td>High Value</td>\n",
       "      <td>229.685623</td>\n",
       "      <td>NaN</td>\n",
       "      <td>83.974852</td>\n",
       "      <td>87.738591</td>\n",
       "      <td>Yes</td>\n",
       "    </tr>\n",
       "    <tr>\n",
       "      <th>5</th>\n",
       "      <td>Treatment</td>\n",
       "      <td>NaN</td>\n",
       "      <td>135.573003</td>\n",
       "      <td>218.559988</td>\n",
       "      <td>58.075342</td>\n",
       "      <td>69.404918</td>\n",
       "      <td>No</td>\n",
       "    </tr>\n",
       "    <tr>\n",
       "      <th>6</th>\n",
       "      <td>Control</td>\n",
       "      <td>High Value</td>\n",
       "      <td>191.713918</td>\n",
       "      <td>222.409356</td>\n",
       "      <td>89.967827</td>\n",
       "      <td>85.120975</td>\n",
       "      <td>Yes</td>\n",
       "    </tr>\n",
       "    <tr>\n",
       "      <th>7</th>\n",
       "      <td>Control</td>\n",
       "      <td>Low Value</td>\n",
       "      <td>173.752555</td>\n",
       "      <td>213.168232</td>\n",
       "      <td>66.984711</td>\n",
       "      <td>67.881558</td>\n",
       "      <td>NaN</td>\n",
       "    </tr>\n",
       "    <tr>\n",
       "      <th>8</th>\n",
       "      <td>NaN</td>\n",
       "      <td>High Value</td>\n",
       "      <td>208.308577</td>\n",
       "      <td>248.178830</td>\n",
       "      <td>95.366670</td>\n",
       "      <td>84.790294</td>\n",
       "      <td>Yes</td>\n",
       "    </tr>\n",
       "    <tr>\n",
       "      <th>9</th>\n",
       "      <td>Treatment</td>\n",
       "      <td>High Value</td>\n",
       "      <td>235.071493</td>\n",
       "      <td>352.756872</td>\n",
       "      <td>72.919851</td>\n",
       "      <td>70.753225</td>\n",
       "      <td>No</td>\n",
       "    </tr>\n",
       "  </tbody>\n",
       "</table>\n",
       "</div>"
      ],
      "text/plain": [
       "       Group Customer_Segment  Sales_Before  Sales_After  \\\n",
       "0    Control       High Value    240.548359   300.007568   \n",
       "1  Treatment       High Value    246.862114   381.337555   \n",
       "2    Control       High Value    156.978084   179.330464   \n",
       "3    Control     Medium Value    192.126708   229.278031   \n",
       "4        NaN       High Value    229.685623          NaN   \n",
       "5  Treatment              NaN    135.573003   218.559988   \n",
       "6    Control       High Value    191.713918   222.409356   \n",
       "7    Control        Low Value    173.752555   213.168232   \n",
       "8        NaN       High Value    208.308577   248.178830   \n",
       "9  Treatment       High Value    235.071493   352.756872   \n",
       "\n",
       "   Customer_Satisfaction_Before  Customer_Satisfaction_After Purchase_Made  \n",
       "0                     74.684767                          NaN            No  \n",
       "1                    100.000000                   100.000000           Yes  \n",
       "2                     98.780735                   100.000000            No  \n",
       "3                     49.333766                    39.811841           Yes  \n",
       "4                     83.974852                    87.738591           Yes  \n",
       "5                     58.075342                    69.404918            No  \n",
       "6                     89.967827                    85.120975           Yes  \n",
       "7                     66.984711                    67.881558           NaN  \n",
       "8                     95.366670                    84.790294           Yes  \n",
       "9                     72.919851                    70.753225            No  "
      ]
     },
     "execution_count": 44,
     "metadata": {},
     "output_type": "execute_result"
    }
   ],
   "source": [
    "df.head(10)"
   ]
  },
  {
   "cell_type": "code",
   "execution_count": 45,
   "id": "debb0550-e73b-4fbc-bcfa-e6d2f01d20b4",
   "metadata": {},
   "outputs": [
    {
     "data": {
      "text/html": [
       "<div>\n",
       "<style scoped>\n",
       "    .dataframe tbody tr th:only-of-type {\n",
       "        vertical-align: middle;\n",
       "    }\n",
       "\n",
       "    .dataframe tbody tr th {\n",
       "        vertical-align: top;\n",
       "    }\n",
       "\n",
       "    .dataframe thead th {\n",
       "        text-align: right;\n",
       "    }\n",
       "</style>\n",
       "<table border=\"1\" class=\"dataframe\">\n",
       "  <thead>\n",
       "    <tr style=\"text-align: right;\">\n",
       "      <th></th>\n",
       "      <th>Group</th>\n",
       "      <th>Customer_Segment</th>\n",
       "      <th>Sales_Before</th>\n",
       "      <th>Sales_After</th>\n",
       "      <th>Customer_Satisfaction_Before</th>\n",
       "      <th>Customer_Satisfaction_After</th>\n",
       "      <th>Purchase_Made</th>\n",
       "    </tr>\n",
       "  </thead>\n",
       "  <tbody>\n",
       "    <tr>\n",
       "      <th>9995</th>\n",
       "      <td>Treatment</td>\n",
       "      <td>NaN</td>\n",
       "      <td>259.695935</td>\n",
       "      <td>415.181694</td>\n",
       "      <td>88.438776</td>\n",
       "      <td>98.418593</td>\n",
       "      <td>NaN</td>\n",
       "    </tr>\n",
       "    <tr>\n",
       "      <th>9996</th>\n",
       "      <td>Control</td>\n",
       "      <td>High Value</td>\n",
       "      <td>186.488285</td>\n",
       "      <td>216.225457</td>\n",
       "      <td>92.261537</td>\n",
       "      <td>100.000000</td>\n",
       "      <td>NaN</td>\n",
       "    </tr>\n",
       "    <tr>\n",
       "      <th>9997</th>\n",
       "      <td>Treatment</td>\n",
       "      <td>Low Value</td>\n",
       "      <td>208.107142</td>\n",
       "      <td>322.893351</td>\n",
       "      <td>55.915870</td>\n",
       "      <td>NaN</td>\n",
       "      <td>No</td>\n",
       "    </tr>\n",
       "    <tr>\n",
       "      <th>9998</th>\n",
       "      <td>Treatment</td>\n",
       "      <td>Medium Value</td>\n",
       "      <td>NaN</td>\n",
       "      <td>431.974901</td>\n",
       "      <td>66.082462</td>\n",
       "      <td>81.274030</td>\n",
       "      <td>No</td>\n",
       "    </tr>\n",
       "    <tr>\n",
       "      <th>9999</th>\n",
       "      <td>Control</td>\n",
       "      <td>Low Value</td>\n",
       "      <td>NaN</td>\n",
       "      <td>124.402398</td>\n",
       "      <td>55.692277</td>\n",
       "      <td>65.288480</td>\n",
       "      <td>Yes</td>\n",
       "    </tr>\n",
       "  </tbody>\n",
       "</table>\n",
       "</div>"
      ],
      "text/plain": [
       "          Group Customer_Segment  Sales_Before  Sales_After  \\\n",
       "9995  Treatment              NaN    259.695935   415.181694   \n",
       "9996    Control       High Value    186.488285   216.225457   \n",
       "9997  Treatment        Low Value    208.107142   322.893351   \n",
       "9998  Treatment     Medium Value           NaN   431.974901   \n",
       "9999    Control        Low Value           NaN   124.402398   \n",
       "\n",
       "      Customer_Satisfaction_Before  Customer_Satisfaction_After Purchase_Made  \n",
       "9995                     88.438776                    98.418593           NaN  \n",
       "9996                     92.261537                   100.000000           NaN  \n",
       "9997                     55.915870                          NaN            No  \n",
       "9998                     66.082462                    81.274030            No  \n",
       "9999                     55.692277                    65.288480           Yes  "
      ]
     },
     "execution_count": 45,
     "metadata": {},
     "output_type": "execute_result"
    }
   ],
   "source": [
    "df.tail(5)"
   ]
  },
  {
   "cell_type": "code",
   "execution_count": 46,
   "id": "e20d58e2-a39b-48f8-bc19-ad2dfaf76783",
   "metadata": {},
   "outputs": [
    {
     "data": {
      "text/html": [
       "<div>\n",
       "<style scoped>\n",
       "    .dataframe tbody tr th:only-of-type {\n",
       "        vertical-align: middle;\n",
       "    }\n",
       "\n",
       "    .dataframe tbody tr th {\n",
       "        vertical-align: top;\n",
       "    }\n",
       "\n",
       "    .dataframe thead th {\n",
       "        text-align: right;\n",
       "    }\n",
       "</style>\n",
       "<table border=\"1\" class=\"dataframe\">\n",
       "  <thead>\n",
       "    <tr style=\"text-align: right;\">\n",
       "      <th></th>\n",
       "      <th>Sales_Before</th>\n",
       "      <th>Sales_After</th>\n",
       "      <th>Customer_Satisfaction_Before</th>\n",
       "      <th>Customer_Satisfaction_After</th>\n",
       "    </tr>\n",
       "  </thead>\n",
       "  <tbody>\n",
       "    <tr>\n",
       "      <th>count</th>\n",
       "      <td>8478.000000</td>\n",
       "      <td>9233.000000</td>\n",
       "      <td>8330.000000</td>\n",
       "      <td>8360.000000</td>\n",
       "    </tr>\n",
       "    <tr>\n",
       "      <th>mean</th>\n",
       "      <td>203.716998</td>\n",
       "      <td>280.457952</td>\n",
       "      <td>70.252076</td>\n",
       "      <td>73.872593</td>\n",
       "    </tr>\n",
       "    <tr>\n",
       "      <th>std</th>\n",
       "      <td>55.273059</td>\n",
       "      <td>85.659543</td>\n",
       "      <td>16.957010</td>\n",
       "      <td>18.128351</td>\n",
       "    </tr>\n",
       "    <tr>\n",
       "      <th>min</th>\n",
       "      <td>24.852966</td>\n",
       "      <td>32.414352</td>\n",
       "      <td>22.202441</td>\n",
       "      <td>18.224938</td>\n",
       "    </tr>\n",
       "    <tr>\n",
       "      <th>25%</th>\n",
       "      <td>166.629232</td>\n",
       "      <td>221.436990</td>\n",
       "      <td>56.365513</td>\n",
       "      <td>59.925030</td>\n",
       "    </tr>\n",
       "    <tr>\n",
       "      <th>50%</th>\n",
       "      <td>203.323607</td>\n",
       "      <td>273.129170</td>\n",
       "      <td>69.490898</td>\n",
       "      <td>73.844594</td>\n",
       "    </tr>\n",
       "    <tr>\n",
       "      <th>75%</th>\n",
       "      <td>238.809147</td>\n",
       "      <td>332.570108</td>\n",
       "      <td>83.426798</td>\n",
       "      <td>90.044365</td>\n",
       "    </tr>\n",
       "    <tr>\n",
       "      <th>max</th>\n",
       "      <td>545.422547</td>\n",
       "      <td>818.219997</td>\n",
       "      <td>100.000000</td>\n",
       "      <td>100.000000</td>\n",
       "    </tr>\n",
       "  </tbody>\n",
       "</table>\n",
       "</div>"
      ],
      "text/plain": [
       "       Sales_Before  Sales_After  Customer_Satisfaction_Before  \\\n",
       "count   8478.000000  9233.000000                   8330.000000   \n",
       "mean     203.716998   280.457952                     70.252076   \n",
       "std       55.273059    85.659543                     16.957010   \n",
       "min       24.852966    32.414352                     22.202441   \n",
       "25%      166.629232   221.436990                     56.365513   \n",
       "50%      203.323607   273.129170                     69.490898   \n",
       "75%      238.809147   332.570108                     83.426798   \n",
       "max      545.422547   818.219997                    100.000000   \n",
       "\n",
       "       Customer_Satisfaction_After  \n",
       "count                  8360.000000  \n",
       "mean                     73.872593  \n",
       "std                      18.128351  \n",
       "min                      18.224938  \n",
       "25%                      59.925030  \n",
       "50%                      73.844594  \n",
       "75%                      90.044365  \n",
       "max                     100.000000  "
      ]
     },
     "execution_count": 46,
     "metadata": {},
     "output_type": "execute_result"
    }
   ],
   "source": [
    "df.describe()"
   ]
  },
  {
   "cell_type": "code",
   "execution_count": 47,
   "id": "74b9c88a-57c0-4851-979a-519d63ee4605",
   "metadata": {},
   "outputs": [
    {
     "data": {
      "text/plain": [
       "Group                            object\n",
       "Customer_Segment                 object\n",
       "Sales_Before                    float64\n",
       "Sales_After                     float64\n",
       "Customer_Satisfaction_Before    float64\n",
       "Customer_Satisfaction_After     float64\n",
       "Purchase_Made                    object\n",
       "dtype: object"
      ]
     },
     "execution_count": 47,
     "metadata": {},
     "output_type": "execute_result"
    }
   ],
   "source": [
    "df.dtypes"
   ]
  },
  {
   "cell_type": "code",
   "execution_count": 48,
   "id": "c14c1547-b60e-4045-85b0-931cde675b39",
   "metadata": {},
   "outputs": [
    {
     "data": {
      "text/plain": [
       "(10000, 7)"
      ]
     },
     "execution_count": 48,
     "metadata": {},
     "output_type": "execute_result"
    }
   ],
   "source": [
    "df.shape"
   ]
  },
  {
   "cell_type": "code",
   "execution_count": 49,
   "id": "84d144b6-65a2-4df3-838d-964f4539af7e",
   "metadata": {},
   "outputs": [
    {
     "data": {
      "text/plain": [
       "Group                           1401\n",
       "Customer_Segment                1966\n",
       "Sales_Before                    1522\n",
       "Sales_After                      767\n",
       "Customer_Satisfaction_Before    1670\n",
       "Customer_Satisfaction_After     1640\n",
       "Purchase_Made                    805\n",
       "dtype: int64"
      ]
     },
     "execution_count": 49,
     "metadata": {},
     "output_type": "execute_result"
    }
   ],
   "source": [
    "#Handling missing values\n",
    "df.isnull().sum()"
   ]
  },
  {
   "cell_type": "code",
   "execution_count": 50,
   "id": "5ba00c58-60f2-43b9-b26b-029474c7c353",
   "metadata": {},
   "outputs": [],
   "source": [
    "df['Sales_Before'] = df['Sales_Before'].fillna(df['Sales_Before'].mean())\n",
    "df=df['Sales_After'] = df['Sales_After'].fillna(df['Sales_After'].mean())\n",
    "df['Customer_Satisfaction_Before'] = df['Customer_Satisfaction_Before'].fillna(df['Customer_Satisfaction_Before'].mean())\n",
    "df['Customer_Satisfaction_After'] = df['Customer_Satisfaction_After'].fillna(df['Customer_Satisfaction_After'].mean())"
   ]
  },
  {
   "cell_type": "code",
   "execution_count": 51,
   "id": "35ee39b4-7ec5-4483-9002-9b4e7b11c986",
   "metadata": {},
   "outputs": [
    {
     "data": {
      "text/html": [
       "<div>\n",
       "<style scoped>\n",
       "    .dataframe tbody tr th:only-of-type {\n",
       "        vertical-align: middle;\n",
       "    }\n",
       "\n",
       "    .dataframe tbody tr th {\n",
       "        vertical-align: top;\n",
       "    }\n",
       "\n",
       "    .dataframe thead th {\n",
       "        text-align: right;\n",
       "    }\n",
       "</style>\n",
       "<table border=\"1\" class=\"dataframe\">\n",
       "  <thead>\n",
       "    <tr style=\"text-align: right;\">\n",
       "      <th></th>\n",
       "      <th>Group</th>\n",
       "      <th>Customer_Segment</th>\n",
       "      <th>Sales_Before</th>\n",
       "      <th>Sales_After</th>\n",
       "      <th>Customer_Satisfaction_Before</th>\n",
       "      <th>Customer_Satisfaction_After</th>\n",
       "      <th>Purchase_Made</th>\n",
       "    </tr>\n",
       "  </thead>\n",
       "  <tbody>\n",
       "    <tr>\n",
       "      <th>0</th>\n",
       "      <td>Control</td>\n",
       "      <td>High Value</td>\n",
       "      <td>240.548359</td>\n",
       "      <td>300.007568</td>\n",
       "      <td>74.684767</td>\n",
       "      <td>73.872593</td>\n",
       "      <td>No</td>\n",
       "    </tr>\n",
       "    <tr>\n",
       "      <th>1</th>\n",
       "      <td>Treatment</td>\n",
       "      <td>High Value</td>\n",
       "      <td>246.862114</td>\n",
       "      <td>381.337555</td>\n",
       "      <td>100.000000</td>\n",
       "      <td>100.000000</td>\n",
       "      <td>Yes</td>\n",
       "    </tr>\n",
       "    <tr>\n",
       "      <th>2</th>\n",
       "      <td>Control</td>\n",
       "      <td>High Value</td>\n",
       "      <td>156.978084</td>\n",
       "      <td>179.330464</td>\n",
       "      <td>98.780735</td>\n",
       "      <td>100.000000</td>\n",
       "      <td>No</td>\n",
       "    </tr>\n",
       "    <tr>\n",
       "      <th>3</th>\n",
       "      <td>Control</td>\n",
       "      <td>Medium Value</td>\n",
       "      <td>192.126708</td>\n",
       "      <td>229.278031</td>\n",
       "      <td>49.333766</td>\n",
       "      <td>39.811841</td>\n",
       "      <td>Yes</td>\n",
       "    </tr>\n",
       "    <tr>\n",
       "      <th>4</th>\n",
       "      <td>NaN</td>\n",
       "      <td>High Value</td>\n",
       "      <td>229.685623</td>\n",
       "      <td>280.457952</td>\n",
       "      <td>83.974852</td>\n",
       "      <td>87.738591</td>\n",
       "      <td>Yes</td>\n",
       "    </tr>\n",
       "    <tr>\n",
       "      <th>5</th>\n",
       "      <td>Treatment</td>\n",
       "      <td>NaN</td>\n",
       "      <td>135.573003</td>\n",
       "      <td>218.559988</td>\n",
       "      <td>58.075342</td>\n",
       "      <td>69.404918</td>\n",
       "      <td>No</td>\n",
       "    </tr>\n",
       "    <tr>\n",
       "      <th>6</th>\n",
       "      <td>Control</td>\n",
       "      <td>High Value</td>\n",
       "      <td>191.713918</td>\n",
       "      <td>222.409356</td>\n",
       "      <td>89.967827</td>\n",
       "      <td>85.120975</td>\n",
       "      <td>Yes</td>\n",
       "    </tr>\n",
       "    <tr>\n",
       "      <th>7</th>\n",
       "      <td>Control</td>\n",
       "      <td>Low Value</td>\n",
       "      <td>173.752555</td>\n",
       "      <td>213.168232</td>\n",
       "      <td>66.984711</td>\n",
       "      <td>67.881558</td>\n",
       "      <td>NaN</td>\n",
       "    </tr>\n",
       "    <tr>\n",
       "      <th>8</th>\n",
       "      <td>NaN</td>\n",
       "      <td>High Value</td>\n",
       "      <td>208.308577</td>\n",
       "      <td>248.178830</td>\n",
       "      <td>95.366670</td>\n",
       "      <td>84.790294</td>\n",
       "      <td>Yes</td>\n",
       "    </tr>\n",
       "    <tr>\n",
       "      <th>9</th>\n",
       "      <td>Treatment</td>\n",
       "      <td>High Value</td>\n",
       "      <td>235.071493</td>\n",
       "      <td>352.756872</td>\n",
       "      <td>72.919851</td>\n",
       "      <td>70.753225</td>\n",
       "      <td>No</td>\n",
       "    </tr>\n",
       "  </tbody>\n",
       "</table>\n",
       "</div>"
      ],
      "text/plain": [
       "       Group Customer_Segment  Sales_Before  Sales_After  \\\n",
       "0    Control       High Value    240.548359   300.007568   \n",
       "1  Treatment       High Value    246.862114   381.337555   \n",
       "2    Control       High Value    156.978084   179.330464   \n",
       "3    Control     Medium Value    192.126708   229.278031   \n",
       "4        NaN       High Value    229.685623   280.457952   \n",
       "5  Treatment              NaN    135.573003   218.559988   \n",
       "6    Control       High Value    191.713918   222.409356   \n",
       "7    Control        Low Value    173.752555   213.168232   \n",
       "8        NaN       High Value    208.308577   248.178830   \n",
       "9  Treatment       High Value    235.071493   352.756872   \n",
       "\n",
       "   Customer_Satisfaction_Before  Customer_Satisfaction_After Purchase_Made  \n",
       "0                     74.684767                    73.872593            No  \n",
       "1                    100.000000                   100.000000           Yes  \n",
       "2                     98.780735                   100.000000            No  \n",
       "3                     49.333766                    39.811841           Yes  \n",
       "4                     83.974852                    87.738591           Yes  \n",
       "5                     58.075342                    69.404918            No  \n",
       "6                     89.967827                    85.120975           Yes  \n",
       "7                     66.984711                    67.881558           NaN  \n",
       "8                     95.366670                    84.790294           Yes  \n",
       "9                     72.919851                    70.753225            No  "
      ]
     },
     "execution_count": 51,
     "metadata": {},
     "output_type": "execute_result"
    }
   ],
   "source": [
    "df.head(10)"
   ]
  },
  {
   "cell_type": "code",
   "execution_count": 52,
   "id": "14ba4f2a-508b-4241-a767-9368a100ac8c",
   "metadata": {},
   "outputs": [
    {
     "data": {
      "text/plain": [
       "Group                           1401\n",
       "Customer_Segment                1966\n",
       "Sales_Before                       0\n",
       "Sales_After                        0\n",
       "Customer_Satisfaction_Before       0\n",
       "Customer_Satisfaction_After        0\n",
       "Purchase_Made                    805\n",
       "dtype: int64"
      ]
     },
     "execution_count": 52,
     "metadata": {},
     "output_type": "execute_result"
    }
   ],
   "source": [
    "df.isnull().sum()"
   ]
  },
  {
   "cell_type": "code",
   "execution_count": 57,
   "id": "c4d54bd4-0cf5-4a80-937c-6b5464b7d7f4",
   "metadata": {},
   "outputs": [],
   "source": [
    "# Renaming columns\n",
    "df = df.rename(columns = {'Group':'Category'})"
   ]
  },
  {
   "cell_type": "code",
   "execution_count": 58,
   "id": "9127cea8-85c2-467b-afd9-ff9d6f55a58e",
   "metadata": {},
   "outputs": [],
   "source": [
    "#changing data type float ---> int\n",
    "df['sales_final'] = df['Sales_After'].round().astype(int)\n",
    "df['customer_satisfaction_final'] = df['Customer_Satisfaction_After'].round().astype(int)"
   ]
  },
  {
   "cell_type": "code",
   "execution_count": 63,
   "id": "2a7266d8-4ca8-4248-a063-52f2bed9d228",
   "metadata": {},
   "outputs": [
    {
     "name": "stdout",
     "output_type": "stream",
     "text": [
      "Category\n",
      "Control      246.230167\n",
      "Treatment    315.310479\n",
      "Name: Sales_After, dtype: float64\n"
     ]
    }
   ],
   "source": [
    "#Data Aggregating and Grouping\n",
    "\n",
    "grouped_mean = df.groupby('Category')['Sales_After'].mean()\n",
    "print(grouped_mean)"
   ]
  },
  {
   "cell_type": "code",
   "execution_count": 65,
   "id": "f5c94dd5-9366-4244-a47b-0fcc0a710d88",
   "metadata": {},
   "outputs": [
    {
     "data": {
      "text/plain": [
       "Category   Purchase_Made\n",
       "Control    No               483939.011649\n",
       "           Yes              488493.724374\n",
       "Treatment  No               606696.905257\n",
       "           Yes              641801.333603\n",
       "Name: Sales_After, dtype: float64"
      ]
     },
     "execution_count": 65,
     "metadata": {},
     "output_type": "execute_result"
    }
   ],
   "source": [
    "df.groupby(['Category','Purchase_Made'])['Sales_After'].sum()"
   ]
  },
  {
   "cell_type": "code",
   "execution_count": 66,
   "id": "c9a021cc-7e63-4869-9010-712a779698cf",
   "metadata": {},
   "outputs": [
    {
     "data": {
      "text/plain": [
       "Category   Purchase_Made\n",
       "Control    No               248.301186\n",
       "           Yes              244.491354\n",
       "Treatment  No               314.025313\n",
       "           Yes              316.314112\n",
       "Name: Sales_After, dtype: float64"
      ]
     },
     "execution_count": 66,
     "metadata": {},
     "output_type": "execute_result"
    }
   ],
   "source": [
    "df.groupby(['Category','Purchase_Made'])['Sales_After'].mean()"
   ]
  },
  {
   "cell_type": "code",
   "execution_count": 69,
   "id": "2747ae57-1190-4a3c-aa7b-969ba99b527b",
   "metadata": {},
   "outputs": [
    {
     "data": {
      "text/html": [
       "<div>\n",
       "<style scoped>\n",
       "    .dataframe tbody tr th:only-of-type {\n",
       "        vertical-align: middle;\n",
       "    }\n",
       "\n",
       "    .dataframe tbody tr th {\n",
       "        vertical-align: top;\n",
       "    }\n",
       "\n",
       "    .dataframe thead th {\n",
       "        text-align: right;\n",
       "    }\n",
       "</style>\n",
       "<table border=\"1\" class=\"dataframe\">\n",
       "  <thead>\n",
       "    <tr style=\"text-align: right;\">\n",
       "      <th></th>\n",
       "      <th>sum</th>\n",
       "      <th>mean</th>\n",
       "      <th>count</th>\n",
       "    </tr>\n",
       "    <tr>\n",
       "      <th>Category</th>\n",
       "      <th></th>\n",
       "      <th></th>\n",
       "      <th></th>\n",
       "    </tr>\n",
       "  </thead>\n",
       "  <tbody>\n",
       "    <tr>\n",
       "      <th>Control</th>\n",
       "      <td>1.058790e+06</td>\n",
       "      <td>246.230167</td>\n",
       "      <td>4300</td>\n",
       "    </tr>\n",
       "    <tr>\n",
       "      <th>Treatment</th>\n",
       "      <td>1.355520e+06</td>\n",
       "      <td>315.310479</td>\n",
       "      <td>4299</td>\n",
       "    </tr>\n",
       "  </tbody>\n",
       "</table>\n",
       "</div>"
      ],
      "text/plain": [
       "                    sum        mean  count\n",
       "Category                                  \n",
       "Control    1.058790e+06  246.230167   4300\n",
       "Treatment  1.355520e+06  315.310479   4299"
      ]
     },
     "execution_count": 69,
     "metadata": {},
     "output_type": "execute_result"
    }
   ],
   "source": [
    "#Aggregate multiple fuctions\n",
    "\n",
    "grouped_agg = df.groupby('Category')['Sales_After'].agg(['sum','mean','count'])\n",
    "grouped_agg"
   ]
  },
  {
   "cell_type": "code",
   "execution_count": 98,
   "id": "48069ac4-c03f-40ce-91f6-e99323a1ea61",
   "metadata": {},
   "outputs": [],
   "source": [
    "# Merging and Joining dataFrames\n",
    "df1 = pd.DataFrame({'Key':['A','B','C'],'Value1':[1,2,3]})\n",
    "df2 = pd.DataFrame({'Key':['A','B','E'],'Value2':[4,5,6]})"
   ]
  },
  {
   "cell_type": "code",
   "execution_count": 99,
   "id": "03e5dbd9-6cec-458d-97b7-480e46b58e76",
   "metadata": {},
   "outputs": [
    {
     "data": {
      "text/html": [
       "<div>\n",
       "<style scoped>\n",
       "    .dataframe tbody tr th:only-of-type {\n",
       "        vertical-align: middle;\n",
       "    }\n",
       "\n",
       "    .dataframe tbody tr th {\n",
       "        vertical-align: top;\n",
       "    }\n",
       "\n",
       "    .dataframe thead th {\n",
       "        text-align: right;\n",
       "    }\n",
       "</style>\n",
       "<table border=\"1\" class=\"dataframe\">\n",
       "  <thead>\n",
       "    <tr style=\"text-align: right;\">\n",
       "      <th></th>\n",
       "      <th>Key</th>\n",
       "      <th>Value1</th>\n",
       "      <th>Value2</th>\n",
       "    </tr>\n",
       "  </thead>\n",
       "  <tbody>\n",
       "    <tr>\n",
       "      <th>0</th>\n",
       "      <td>A</td>\n",
       "      <td>1</td>\n",
       "      <td>4</td>\n",
       "    </tr>\n",
       "    <tr>\n",
       "      <th>1</th>\n",
       "      <td>B</td>\n",
       "      <td>2</td>\n",
       "      <td>5</td>\n",
       "    </tr>\n",
       "  </tbody>\n",
       "</table>\n",
       "</div>"
      ],
      "text/plain": [
       "  Key  Value1  Value2\n",
       "0   A       1       4\n",
       "1   B       2       5"
      ]
     },
     "execution_count": 99,
     "metadata": {},
     "output_type": "execute_result"
    }
   ],
   "source": [
    "pd.merge(df1,df2,on='Key',how='inner')"
   ]
  },
  {
   "cell_type": "code",
   "execution_count": 100,
   "id": "338722fb-27c7-4360-b27a-01da5a73e470",
   "metadata": {},
   "outputs": [
    {
     "data": {
      "text/html": [
       "<div>\n",
       "<style scoped>\n",
       "    .dataframe tbody tr th:only-of-type {\n",
       "        vertical-align: middle;\n",
       "    }\n",
       "\n",
       "    .dataframe tbody tr th {\n",
       "        vertical-align: top;\n",
       "    }\n",
       "\n",
       "    .dataframe thead th {\n",
       "        text-align: right;\n",
       "    }\n",
       "</style>\n",
       "<table border=\"1\" class=\"dataframe\">\n",
       "  <thead>\n",
       "    <tr style=\"text-align: right;\">\n",
       "      <th></th>\n",
       "      <th>Key</th>\n",
       "      <th>Value1</th>\n",
       "      <th>Value2</th>\n",
       "    </tr>\n",
       "  </thead>\n",
       "  <tbody>\n",
       "    <tr>\n",
       "      <th>0</th>\n",
       "      <td>A</td>\n",
       "      <td>1.0</td>\n",
       "      <td>4.0</td>\n",
       "    </tr>\n",
       "    <tr>\n",
       "      <th>1</th>\n",
       "      <td>B</td>\n",
       "      <td>2.0</td>\n",
       "      <td>5.0</td>\n",
       "    </tr>\n",
       "    <tr>\n",
       "      <th>2</th>\n",
       "      <td>C</td>\n",
       "      <td>3.0</td>\n",
       "      <td>NaN</td>\n",
       "    </tr>\n",
       "    <tr>\n",
       "      <th>3</th>\n",
       "      <td>E</td>\n",
       "      <td>NaN</td>\n",
       "      <td>6.0</td>\n",
       "    </tr>\n",
       "  </tbody>\n",
       "</table>\n",
       "</div>"
      ],
      "text/plain": [
       "  Key  Value1  Value2\n",
       "0   A     1.0     4.0\n",
       "1   B     2.0     5.0\n",
       "2   C     3.0     NaN\n",
       "3   E     NaN     6.0"
      ]
     },
     "execution_count": 100,
     "metadata": {},
     "output_type": "execute_result"
    }
   ],
   "source": [
    "pd.merge(df1,df2,on='Key',how='outer')"
   ]
  },
  {
   "cell_type": "code",
   "execution_count": 101,
   "id": "86f9165a-5398-42f0-a2a6-c447ea54ee58",
   "metadata": {},
   "outputs": [
    {
     "data": {
      "text/html": [
       "<div>\n",
       "<style scoped>\n",
       "    .dataframe tbody tr th:only-of-type {\n",
       "        vertical-align: middle;\n",
       "    }\n",
       "\n",
       "    .dataframe tbody tr th {\n",
       "        vertical-align: top;\n",
       "    }\n",
       "\n",
       "    .dataframe thead th {\n",
       "        text-align: right;\n",
       "    }\n",
       "</style>\n",
       "<table border=\"1\" class=\"dataframe\">\n",
       "  <thead>\n",
       "    <tr style=\"text-align: right;\">\n",
       "      <th></th>\n",
       "      <th>Key</th>\n",
       "      <th>Value1</th>\n",
       "      <th>Value2</th>\n",
       "    </tr>\n",
       "  </thead>\n",
       "  <tbody>\n",
       "    <tr>\n",
       "      <th>0</th>\n",
       "      <td>A</td>\n",
       "      <td>1</td>\n",
       "      <td>4.0</td>\n",
       "    </tr>\n",
       "    <tr>\n",
       "      <th>1</th>\n",
       "      <td>B</td>\n",
       "      <td>2</td>\n",
       "      <td>5.0</td>\n",
       "    </tr>\n",
       "    <tr>\n",
       "      <th>2</th>\n",
       "      <td>C</td>\n",
       "      <td>3</td>\n",
       "      <td>NaN</td>\n",
       "    </tr>\n",
       "  </tbody>\n",
       "</table>\n",
       "</div>"
      ],
      "text/plain": [
       "  Key  Value1  Value2\n",
       "0   A       1     4.0\n",
       "1   B       2     5.0\n",
       "2   C       3     NaN"
      ]
     },
     "execution_count": 101,
     "metadata": {},
     "output_type": "execute_result"
    }
   ],
   "source": [
    "pd.merge(df1,df2,on='Key',how='left')"
   ]
  },
  {
   "cell_type": "code",
   "execution_count": 102,
   "id": "510788fc-038a-4d63-9144-06729b9c8d94",
   "metadata": {},
   "outputs": [
    {
     "data": {
      "text/html": [
       "<div>\n",
       "<style scoped>\n",
       "    .dataframe tbody tr th:only-of-type {\n",
       "        vertical-align: middle;\n",
       "    }\n",
       "\n",
       "    .dataframe tbody tr th {\n",
       "        vertical-align: top;\n",
       "    }\n",
       "\n",
       "    .dataframe thead th {\n",
       "        text-align: right;\n",
       "    }\n",
       "</style>\n",
       "<table border=\"1\" class=\"dataframe\">\n",
       "  <thead>\n",
       "    <tr style=\"text-align: right;\">\n",
       "      <th></th>\n",
       "      <th>Key</th>\n",
       "      <th>Value1</th>\n",
       "      <th>Value2</th>\n",
       "    </tr>\n",
       "  </thead>\n",
       "  <tbody>\n",
       "    <tr>\n",
       "      <th>0</th>\n",
       "      <td>A</td>\n",
       "      <td>1.0</td>\n",
       "      <td>4</td>\n",
       "    </tr>\n",
       "    <tr>\n",
       "      <th>1</th>\n",
       "      <td>B</td>\n",
       "      <td>2.0</td>\n",
       "      <td>5</td>\n",
       "    </tr>\n",
       "    <tr>\n",
       "      <th>2</th>\n",
       "      <td>E</td>\n",
       "      <td>NaN</td>\n",
       "      <td>6</td>\n",
       "    </tr>\n",
       "  </tbody>\n",
       "</table>\n",
       "</div>"
      ],
      "text/plain": [
       "  Key  Value1  Value2\n",
       "0   A     1.0       4\n",
       "1   B     2.0       5\n",
       "2   E     NaN       6"
      ]
     },
     "execution_count": 102,
     "metadata": {},
     "output_type": "execute_result"
    }
   ],
   "source": [
    "pd.merge(df1,df2,on='Key',how='right')"
   ]
  },
  {
   "cell_type": "markdown",
   "id": "5288b807-27ac-48a1-a0bf-cc3232c7596b",
   "metadata": {},
   "source": [
    "# Reading Data From different sources"
   ]
  },
  {
   "cell_type": "code",
   "execution_count": 2,
   "id": "b5a10f11-1d6c-47cf-b1c4-9131af6579f8",
   "metadata": {},
   "outputs": [],
   "source": [
    "import pandas as pd\n",
    "from io import StringIO"
   ]
  },
  {
   "cell_type": "code",
   "execution_count": 3,
   "id": "1a9dc9a5-b10c-4947-90e0-ad335fe8fc81",
   "metadata": {},
   "outputs": [],
   "source": [
    "Data = '{\"employee_name\":\"James\",\"email\":\"james@gmail.com\",\"job_profile\":[{\"title1\": \"Team Lead\",\"title2\":\"Sr. Developer\"}]}'"
   ]
  },
  {
   "cell_type": "code",
   "execution_count": 4,
   "id": "893361b8-f536-4dad-aab5-10f90e20e11a",
   "metadata": {},
   "outputs": [
    {
     "data": {
      "text/html": [
       "<div>\n",
       "<style scoped>\n",
       "    .dataframe tbody tr th:only-of-type {\n",
       "        vertical-align: middle;\n",
       "    }\n",
       "\n",
       "    .dataframe tbody tr th {\n",
       "        vertical-align: top;\n",
       "    }\n",
       "\n",
       "    .dataframe thead th {\n",
       "        text-align: right;\n",
       "    }\n",
       "</style>\n",
       "<table border=\"1\" class=\"dataframe\">\n",
       "  <thead>\n",
       "    <tr style=\"text-align: right;\">\n",
       "      <th></th>\n",
       "      <th>employee_name</th>\n",
       "      <th>email</th>\n",
       "      <th>job_profile</th>\n",
       "    </tr>\n",
       "  </thead>\n",
       "  <tbody>\n",
       "    <tr>\n",
       "      <th>0</th>\n",
       "      <td>James</td>\n",
       "      <td>james@gmail.com</td>\n",
       "      <td>{'title1': 'Team Lead', 'title2': 'Sr. Develop...</td>\n",
       "    </tr>\n",
       "  </tbody>\n",
       "</table>\n",
       "</div>"
      ],
      "text/plain": [
       "  employee_name            email  \\\n",
       "0         James  james@gmail.com   \n",
       "\n",
       "                                         job_profile  \n",
       "0  {'title1': 'Team Lead', 'title2': 'Sr. Develop...  "
      ]
     },
     "execution_count": 4,
     "metadata": {},
     "output_type": "execute_result"
    }
   ],
   "source": [
    "df = pd.read_json(StringIO(Data))\n",
    "df"
   ]
  },
  {
   "cell_type": "code",
   "execution_count": 5,
   "id": "6dd86168-2063-4003-a2f3-03bd2f1b6a09",
   "metadata": {},
   "outputs": [
    {
     "data": {
      "text/plain": [
       "'{\"0\":{\"employee_name\":\"James\",\"email\":\"james@gmail.com\",\"job_profile\":{\"title1\":\"Team Lead\",\"title2\":\"Sr. Developer\"}}}'"
      ]
     },
     "execution_count": 5,
     "metadata": {},
     "output_type": "execute_result"
    }
   ],
   "source": [
    "df.to_json(orient='index')"
   ]
  },
  {
   "cell_type": "code",
   "execution_count": 6,
   "id": "b3af8a65-1cc6-4945-b652-292f9ba0ce00",
   "metadata": {},
   "outputs": [
    {
     "data": {
      "text/plain": [
       "'[{\"employee_name\":\"James\",\"email\":\"james@gmail.com\",\"job_profile\":{\"title1\":\"Team Lead\",\"title2\":\"Sr. Developer\"}}]'"
      ]
     },
     "execution_count": 6,
     "metadata": {},
     "output_type": "execute_result"
    }
   ],
   "source": [
    "df.to_json(orient='records')"
   ]
  },
  {
   "cell_type": "code",
   "execution_count": 18,
   "id": "604ec58d-6456-4506-99d2-750ec15049b4",
   "metadata": {},
   "outputs": [],
   "source": [
    "url = \"https://www.fdic.gov/bank-failures/failed-bank-list/\"\n",
    "df_hmtl = pd.read_html(url)"
   ]
  },
  {
   "cell_type": "code",
   "execution_count": 19,
   "id": "699e4429-e977-4d5f-ae25-cae679a55311",
   "metadata": {},
   "outputs": [
    {
     "data": {
      "text/plain": [
       "[                               Bank Name               City         State  \\\n",
       " 0                   Pulaski Savings Bank            Chicago      Illinois   \n",
       " 1     The First National Bank of Lindsay            Lindsay      Oklahoma   \n",
       " 2  Republic First Bank dba Republic Bank       Philadelphia  Pennsylvania   \n",
       " 3                          Citizens Bank           Sac City          Iowa   \n",
       " 4               Heartland Tri-State Bank            Elkhart        Kansas   \n",
       " 5                    First Republic Bank      San Francisco    California   \n",
       " 6                         Signature Bank           New York      New York   \n",
       " 7                    Silicon Valley Bank        Santa Clara    California   \n",
       " 8                      Almena State Bank             Almena        Kansas   \n",
       " 9             First City Bank of Florida  Fort Walton Beach       Florida   \n",
       " \n",
       "     Cert                Acquiring Institution      Closing Date  \\\n",
       " 0  28611                      Millennium Bank  January 17, 2025   \n",
       " 1   4134   First Bank & Trust Co., Duncan, OK  October 18, 2024   \n",
       " 2  27332    Fulton Bank, National Association    April 26, 2024   \n",
       " 3   8758            Iowa Trust & Savings Bank  November 3, 2023   \n",
       " 4  25851               Dream First Bank, N.A.     July 28, 2023   \n",
       " 5  59017            JPMorgan Chase Bank, N.A.       May 1, 2023   \n",
       " 6  57053                  Flagstar Bank, N.A.    March 12, 2023   \n",
       " 7  24735  First Citizens Bank & Trust Company    March 10, 2023   \n",
       " 8  15426                          Equity Bank  October 23, 2020   \n",
       " 9  16748            United Fidelity Bank, fsb  October 16, 2020   \n",
       " \n",
       "    Fund  Sort ascending  \n",
       " 0                 10548  \n",
       " 1                 10547  \n",
       " 2                 10546  \n",
       " 3                 10545  \n",
       " 4                 10544  \n",
       " 5                 10543  \n",
       " 6                 10540  \n",
       " 7                 10539  \n",
       " 8                 10538  \n",
       " 9                 10537  ]"
      ]
     },
     "execution_count": 19,
     "metadata": {},
     "output_type": "execute_result"
    }
   ],
   "source": [
    "df_html"
   ]
  },
  {
   "cell_type": "code",
   "execution_count": 49,
   "id": "11ed08df-a0ef-4023-9314-996a526b706b",
   "metadata": {},
   "outputs": [],
   "source": [
    "url2= 'https://en.wikipedia.org/wiki/List_of_highest-grossing_films'\n",
    "movie_records = pd.read_html(url2,match='Rank',header=0)[0]\n",
    "movie_records.to_csv(\"movies_gross_rank.csv\",index=False)"
   ]
  },
  {
   "cell_type": "code",
   "execution_count": null,
   "id": "3c53d261-f161-4f1d-b434-75248e9eebce",
   "metadata": {},
   "outputs": [],
   "source": [
    "# pd.to_pickle / read_pickle "
   ]
  }
 ],
 "metadata": {
  "kernelspec": {
   "display_name": "Python (Poetry)",
   "language": "python",
   "name": "my-poetry-env"
  },
  "language_info": {
   "codemirror_mode": {
    "name": "ipython",
    "version": 3
   },
   "file_extension": ".py",
   "mimetype": "text/x-python",
   "name": "python",
   "nbconvert_exporter": "python",
   "pygments_lexer": "ipython3",
   "version": "3.12.0"
  }
 },
 "nbformat": 4,
 "nbformat_minor": 5
}

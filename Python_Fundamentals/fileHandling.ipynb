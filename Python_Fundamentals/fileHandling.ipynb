{
 "cells": [
  {
   "cell_type": "code",
   "execution_count": 2,
   "id": "6711a728-547a-439b-8991-d312a6a6fae5",
   "metadata": {},
   "outputs": [
    {
     "name": "stdout",
     "output_type": "stream",
     "text": [
      "Hello How are you?\n",
      "i am good\n",
      "Aaditya is my name\n",
      "Welcome to the course\n",
      "\n"
     ]
    }
   ],
   "source": [
    "#read a whole file\n",
    "\n",
    "with open('example.txt','r') as file:\n",
    "    content = file.read()\n",
    "    print(content)"
   ]
  },
  {
   "cell_type": "code",
   "execution_count": 5,
   "id": "c252f629-dce8-4eba-a74f-d9c0da09b288",
   "metadata": {},
   "outputs": [
    {
     "name": "stdout",
     "output_type": "stream",
     "text": [
      "Hello How are you?\n",
      "i am good\n",
      "Aaditya is my name\n",
      "Welcome to the course\n"
     ]
    }
   ],
   "source": [
    "#read a file line by line\n",
    "with open('example.txt','r') as file:\n",
    "    for line in file:\n",
    "        print(line.strip()) # removes extra space in the line"
   ]
  },
  {
   "cell_type": "code",
   "execution_count": 8,
   "id": "9ebe2606-0b68-476d-bc3f-31a9b2cc9a7d",
   "metadata": {},
   "outputs": [],
   "source": [
    "# writing a file(overwriting)\n",
    "\n",
    "with open('example.txt','w') as file:\n",
    "    file.write('Hello world!\\n')\n",
    "    file.write('I am trying to learn DS/Ml!')\n",
    "    "
   ]
  },
  {
   "cell_type": "code",
   "execution_count": 12,
   "id": "3cf656d6-5bf3-43cb-b924-6db93b668078",
   "metadata": {},
   "outputs": [],
   "source": [
    "with open('example.txt','a') as file:\n",
    "    file.write('\\nMy goal is to become better within 6 months.')"
   ]
  },
  {
   "cell_type": "code",
   "execution_count": 15,
   "id": "8f838a56-d0ff-45fe-9578-395d8c453447",
   "metadata": {},
   "outputs": [],
   "source": [
    "### writing list of lines to a file\n",
    "\n",
    "lines = ['\\nFirst line\\n', 'Second line\\n','Third line']\n",
    "with open('example.txt','a') as file:\n",
    "    for l in lines:\n",
    "        file.write(l)"
   ]
  },
  {
   "cell_type": "code",
   "execution_count": 2,
   "id": "b42c4de5-b254-466f-aeb9-60b3cab67284",
   "metadata": {},
   "outputs": [
    {
     "name": "stdout",
     "output_type": "stream",
     "text": [
      "b'\\x00\\x01\\x02\\x03\\x04\\x05\\x06\\x07\\x08\\t'\n"
     ]
    }
   ],
   "source": [
    "#Binary files \n",
    "\n",
    "with open('example.bin','wb') as file:\n",
    "    file.write(b'\\x00\\x01\\x02\\x03\\x04\\x05\\x06\\x07\\x08\\x09')\n",
    "\n",
    "with open('example.bin','rb') as file:\n",
    "    content = file.read()\n",
    "    print(content)\n"
   ]
  },
  {
   "cell_type": "code",
   "execution_count": 3,
   "id": "fc975637",
   "metadata": {},
   "outputs": [],
   "source": [
    "#Read a content from a source and write it to a file\n",
    "with open('example.txt','r') as source_file:\n",
    "    with open('copy_example.txt','w') as dest_file:\n",
    "        for line in source_file:\n",
    "            dest_file.write(line)"
   ]
  },
  {
   "cell_type": "code",
   "execution_count": 4,
   "id": "76e480a9",
   "metadata": {},
   "outputs": [
    {
     "name": "stdout",
     "output_type": "stream",
     "text": [
      "Lines: 6, Words: 31, Characters: 163\n"
     ]
    }
   ],
   "source": [
    "def count_text_file_lines(file_path):\n",
    "    with open(file_path, 'r') as file:\n",
    "        lines = file.readlines()\n",
    "        lines_count = len(lines)\n",
    "        words_count = sum(len(line.split()) for line in lines)\n",
    "        chars_count = sum(len(line) for line in lines)\n",
    "        return lines_count, words_count, chars_count\n",
    "\n",
    "file_path = 'example.txt'\n",
    "lines_count, words_count, chars_count = count_text_file_lines(file_path)\n",
    "print(f\"Lines: {lines_count}, Words: {words_count}, Characters: {chars_count}\")\n",
    "    "
   ]
  },
  {
   "cell_type": "code",
   "execution_count": 5,
   "id": "a4559ec2",
   "metadata": {},
   "outputs": [
    {
     "name": "stdout",
     "output_type": "stream",
     "text": [
      "Hello world!\n",
      "I am trying to learn DS/Ml!\n"
     ]
    }
   ],
   "source": [
    "#writing and reading a file \n",
    "\n",
    "with open('example.txt','w+') as file:\n",
    "    file.write('Hello world!\\n')\n",
    "    file.write('I am trying to learn DS/Ml!')\n",
    "    file.seek(0)  # Move the cursor to the beginning of the file\n",
    "    content = file.read()\n",
    "    print(content)"
   ]
  },
  {
   "cell_type": "markdown",
   "id": "aaf7e277",
   "metadata": {},
   "source": [
    "# FilePath"
   ]
  },
  {
   "cell_type": "code",
   "execution_count": 6,
   "id": "f07da024",
   "metadata": {},
   "outputs": [
    {
     "name": "stdout",
     "output_type": "stream",
     "text": [
      "Current working directory: /Users/aadityakhanal/Desktop/DS:ML\n"
     ]
    }
   ],
   "source": [
    "import os\n",
    "cwd  = os.getcwd()\n",
    "print(f\"Current working directory: {cwd}\")"
   ]
  },
  {
   "cell_type": "code",
   "execution_count": 7,
   "id": "8dc53bb7",
   "metadata": {},
   "outputs": [
    {
     "name": "stdout",
     "output_type": "stream",
     "text": [
      "Directory 'package' created.\n"
     ]
    }
   ],
   "source": [
    "#creating a directory\n",
    "\n",
    "import os\n",
    "new_dir = 'package'\n",
    "os.mkdir(new_dir)\n",
    "print(f\"Directory '{new_dir}' created.\")\n"
   ]
  },
  {
   "cell_type": "code",
   "execution_count": 8,
   "id": "e7272307",
   "metadata": {},
   "outputs": [
    {
     "name": "stdout",
     "output_type": "stream",
     "text": [
      "Files in 'package': []\n"
     ]
    }
   ],
   "source": [
    "#listing files in directory\n",
    "import os\n",
    "directory = 'package'\n",
    "files = os.listdir(directory)\n",
    "print(f\"Files in '{directory}': {files}\")"
   ]
  },
  {
   "cell_type": "code",
   "execution_count": 9,
   "id": "f49bd6f9",
   "metadata": {},
   "outputs": [
    {
     "name": "stdout",
     "output_type": "stream",
     "text": [
      "Full path: folder/file.txt\n"
     ]
    }
   ],
   "source": [
    "#joining paths\n",
    "\n",
    "dir_name = \"folder\"\n",
    "file_name = \"file.txt\"\n",
    "full_path = os.path.join(dir_name, file_name)\n",
    "print(f\"Full path: {full_path}\")\n"
   ]
  },
  {
   "cell_type": "code",
   "execution_count": 10,
   "id": "c8fa1ca8",
   "metadata": {},
   "outputs": [
    {
     "name": "stdout",
     "output_type": "stream",
     "text": [
      "Full path: /Users/aadityakhanal/Desktop/DS:ML/folder/file.txt\n"
     ]
    }
   ],
   "source": [
    "#joining paths\n",
    "\n",
    "dir_name = \"folder\"\n",
    "file_name = \"file.txt\"\n",
    "full_path = os.path.join(os.getcwd(),dir_name, file_name)\n",
    "print(f\"Full path: {full_path}\")\n"
   ]
  },
  {
   "cell_type": "code",
   "execution_count": 12,
   "id": "f76dfaf6",
   "metadata": {},
   "outputs": [
    {
     "name": "stdout",
     "output_type": "stream",
     "text": [
      "example.txt exists.\n",
      "example.txt is a file.\n"
     ]
    }
   ],
   "source": [
    "path = \"example.txt\"\n",
    "if os.path.exists(path):\n",
    "    print(f\"{path} exists.\")\n",
    "else:\n",
    "    print(f\"{path} does not exist.\")\n",
    "\n",
    "\n",
    "if os.path.isfile(path):\n",
    "    print(f\"{path} is a file.\")\n",
    "elif os.path.isdir(path):\n",
    "    print(f\"{path} is a directory.\")\n",
    "else:\n",
    "    print(f\"{path} is neither a file nor a directory.\")"
   ]
  },
  {
   "cell_type": "code",
   "execution_count": 13,
   "id": "d0595f53",
   "metadata": {},
   "outputs": [
    {
     "name": "stdout",
     "output_type": "stream",
     "text": [
      "Relative path: example.txt\n",
      "Absolute path: /Users/aadityakhanal/Desktop/DS:ML/example.txt\n"
     ]
    }
   ],
   "source": [
    "relative_path = os.path.relpath(path)\n",
    "print(f\"Relative path: {relative_path}\")\n",
    "\n",
    "absolute_path = os.path.abspath(path)\n",
    "print(f\"Absolute path: {absolute_path}\")"
   ]
  }
 ],
 "metadata": {
  "kernelspec": {
   "display_name": "Python 3",
   "language": "python",
   "name": "python3"
  },
  "language_info": {
   "codemirror_mode": {
    "name": "ipython",
    "version": 3
   },
   "file_extension": ".py",
   "mimetype": "text/x-python",
   "name": "python",
   "nbconvert_exporter": "python",
   "pygments_lexer": "ipython3",
   "version": "3.12.0"
  }
 },
 "nbformat": 4,
 "nbformat_minor": 5
}

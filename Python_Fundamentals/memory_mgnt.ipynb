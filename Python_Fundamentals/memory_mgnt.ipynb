{
 "cells": [
  {
   "cell_type": "code",
   "execution_count": 1,
   "id": "933e1d4a",
   "metadata": {},
   "outputs": [
    {
     "name": "stdout",
     "output_type": "stream",
     "text": [
      "2\n",
      "3\n"
     ]
    }
   ],
   "source": [
    "# reference counting\n",
    "import sys \n",
    "\n",
    "a = []\n",
    "print(sys.getrefcount(a))\n",
    "\n",
    "b = a\n",
    "print(sys.getrefcount(b))\n"
   ]
  },
  {
   "cell_type": "code",
   "execution_count": 2,
   "id": "eb32daf3",
   "metadata": {},
   "outputs": [],
   "source": [
    "# Garbage collection\n",
    "\n",
    "import gc\n",
    "\n",
    "## enable garbage collection \n",
    "gc.enable()\n",
    "\n"
   ]
  },
  {
   "cell_type": "code",
   "execution_count": 3,
   "id": "56a242d5",
   "metadata": {},
   "outputs": [],
   "source": [
    "gc.disable()"
   ]
  },
  {
   "cell_type": "code",
   "execution_count": 4,
   "id": "9e302a62",
   "metadata": {},
   "outputs": [
    {
     "data": {
      "text/plain": [
       "0"
      ]
     },
     "execution_count": 4,
     "metadata": {},
     "output_type": "execute_result"
    }
   ],
   "source": [
    "gc.collect()"
   ]
  },
  {
   "cell_type": "code",
   "execution_count": 5,
   "id": "dc5eba2d",
   "metadata": {},
   "outputs": [
    {
     "name": "stdout",
     "output_type": "stream",
     "text": [
      "[{'collections': 178, 'collected': 1377, 'uncollectable': 0}, {'collections': 16, 'collected': 126, 'uncollectable': 0}, {'collections': 2, 'collected': 74, 'uncollectable': 0}]\n"
     ]
    }
   ],
   "source": [
    "## Get garbage collector stats\n",
    "\n",
    "print(gc.get_stats())\n",
    "\n"
   ]
  },
  {
   "cell_type": "code",
   "execution_count": 6,
   "id": "e4556bab",
   "metadata": {},
   "outputs": [
    {
     "name": "stdout",
     "output_type": "stream",
     "text": [
      "[]\n"
     ]
    }
   ],
   "source": [
    "## get unreachable objects\n",
    "print(gc.garbage)"
   ]
  },
  {
   "cell_type": "code",
   "execution_count": 7,
   "id": "fd975929",
   "metadata": {},
   "outputs": [
    {
     "name": "stdout",
     "output_type": "stream",
     "text": [
      "Object created: obj1\n",
      "Object created: obj2\n",
      "Object destroyed: obj1\n",
      "Object destroyed: obj2\n"
     ]
    },
    {
     "data": {
      "text/plain": [
       "2"
      ]
     },
     "execution_count": 7,
     "metadata": {},
     "output_type": "execute_result"
    }
   ],
   "source": [
    "class MyObject:\n",
    "    def __init__(self, name):\n",
    "        self.name = name\n",
    "        print(f\"Object created: {self.name}\")\n",
    "    def __del__(self):\n",
    "        print(f\"Object destroyed: {self.name}\")\n",
    "\n",
    "\n",
    "#create circular reference\n",
    "obj1 = MyObject(\"obj1\")\n",
    "obj2 = MyObject(\"obj2\")\n",
    "obj1.ref = obj2\n",
    "obj2.ref = obj1\n",
    "\n",
    "#delete objects\n",
    "del obj1\n",
    "del obj2\n",
    "\n",
    "# #run garbage collector\n",
    "gc.collect()\n",
    "\n",
    "# #check garbage collector stats\n",
    "# print(gc.get_stats())"
   ]
  },
  {
   "cell_type": "code",
   "execution_count": 8,
   "id": "4bd25eb4",
   "metadata": {},
   "outputs": [
    {
     "name": "stdout",
     "output_type": "stream",
     "text": [
      "0\n",
      "1\n",
      "4\n",
      "9\n",
      "16\n"
     ]
    }
   ],
   "source": [
    "## Generators for memory efficiency\n",
    "\n",
    "def my_generator(n):\n",
    "    for i in range(n):\n",
    "        yield i**2\n",
    "\n",
    "for num in my_generator(10000000):\n",
    "    print(num)\n",
    "    if num >10:\n",
    "        break"
   ]
  },
  {
   "cell_type": "code",
   "execution_count": null,
   "id": "566e1ccc",
   "metadata": {},
   "outputs": [
    {
     "name": "stdout",
     "output_type": "stream",
     "text": [
      "c:\\anaconda3\\Lib\\site-packages\\tornado\\platform\\asyncio.py:574: size=144 KiB, count=3, average=48.0 KiB\n",
      "c:\\anaconda3\\Lib\\asyncio\\windows_events.py:487: size=4129 B, count=1, average=4129 B\n",
      "c:\\anaconda3\\Lib\\asyncio\\windows_events.py:720: size=288 B, count=2, average=144 B\n",
      "c:\\anaconda3\\Lib\\asyncio\\windows_events.py:484: size=184 B, count=1, average=184 B\n",
      "c:\\anaconda3\\Lib\\site-packages\\tornado\\platform\\asyncio.py:545: size=144 B, count=3, average=48 B\n",
      "c:\\anaconda3\\Lib\\site-packages\\tornado\\queues.py:248: size=144 B, count=1, average=144 B\n",
      "c:\\anaconda3\\Lib\\site-packages\\zmq\\sugar\\attrsettr.py:44: size=141 B, count=3, average=47 B\n",
      "c:\\anaconda3\\Lib\\site-packages\\traitlets\\traitlets.py:731: size=131 B, count=2, average=66 B\n",
      "c:\\anaconda3\\Lib\\asyncio\\proactor_events.py:818: size=128 B, count=2, average=64 B\n",
      "c:\\anaconda3\\Lib\\threading.py:348: size=120 B, count=2, average=60 B\n"
     ]
    }
   ],
   "source": [
    "# profiling memory usage\n",
    "\n",
    "\n",
    "import tracemalloc\n",
    "\n",
    "def create_list():\n",
    "    return [i for i in range(1000000)]\n",
    "\n",
    "def main():\n",
    "    tracemalloc.start()\n",
    "    create_list()\n",
    "    snapshot = tracemalloc.take_snapshot()\n",
    "    top_stats = snapshot.statistics('lineno')\n",
    "    for stat in top_stats[:10]: # :: for all\n",
    "        print(stat)\n",
    "    tracemalloc.stop()\n",
    "\n",
    "\n",
    "main()"
   ]
  },
  {
   "cell_type": "code",
   "execution_count": null,
   "id": "e7a25a93",
   "metadata": {},
   "outputs": [],
   "source": []
  }
 ],
 "metadata": {
  "kernelspec": {
   "display_name": "base",
   "language": "python",
   "name": "python3"
  },
  "language_info": {
   "codemirror_mode": {
    "name": "ipython",
    "version": 3
   },
   "file_extension": ".py",
   "mimetype": "text/x-python",
   "name": "python",
   "nbconvert_exporter": "python",
   "pygments_lexer": "ipython3",
   "version": "3.12.7"
  }
 },
 "nbformat": 4,
 "nbformat_minor": 5
}

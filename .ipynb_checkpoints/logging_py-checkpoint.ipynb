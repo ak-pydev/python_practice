{
 "cells": [
  {
   "cell_type": "markdown",
   "id": "2d8a4d6d-c18b-4145-b040-0ecf6706760f",
   "metadata": {},
   "source": [
    "# Logging Practical Implementation In Python"
   ]
  },
  {
   "cell_type": "code",
   "execution_count": 15,
   "id": "125b94dc-0cd0-42e3-a6a5-2cedb1771e84",
   "metadata": {},
   "outputs": [],
   "source": [
    "import logging"
   ]
  },
  {
   "cell_type": "code",
   "execution_count": 16,
   "id": "bf01f7e1-8ea6-408b-b7c1-c4d9967c1d4b",
   "metadata": {},
   "outputs": [],
   "source": [
    "# configuring logging \n",
    "\n",
    "logging.basicConfig(\n",
    "    filename='app.log',\n",
    "    filemode='w',  \n",
    "    level = logging.DEBUG,\n",
    "    format = '%(asctime)s-%(name)s-%(levelname)s-%(message)s',\n",
    "    datefmt = '%Y-%m-%d %H:%M:%S'\n",
    ")\n",
    "\n",
    "\n",
    "# configure basic logging settings\n",
    "\n",
    "logging.debug('This is a debug message.')\n",
    "\n",
    "logging.info(\"This is an info message.\")\n",
    "\n",
    "logging.warning(\"This is an warning message.\")\n",
    "\n",
    "logging.error(\"This is an error message.\")\n",
    "\n",
    "logging.critical(\"This is an critical message.\")\n"
   ]
  },
  {
   "cell_type": "code",
   "execution_count": 17,
   "id": "0274a2b7-06ab-4417-8cab-9221b8ece179",
   "metadata": {},
   "outputs": [
    {
     "data": {
      "text/plain": [
       "25"
      ]
     },
     "execution_count": 17,
     "metadata": {},
     "output_type": "execute_result"
    }
   ],
   "source": [
    "def add(a,b):\n",
    "    logging.debug(\"Addition op is taking place\")\n",
    "    return a+b\n",
    "logging.debug(\"Addition took place.\")\n",
    "add(10,15)"
   ]
  },
  {
   "cell_type": "markdown",
   "id": "52e71a9b-d328-4933-a976-45b987d181ae",
   "metadata": {},
   "source": [
    "# Logging with multiple loggers"
   ]
  },
  {
   "cell_type": "code",
   "execution_count": 22,
   "id": "7be065bb-f4fa-407b-b3ae-2f0c0de609e6",
   "metadata": {},
   "outputs": [],
   "source": [
    "#create a logger for module1\n",
    "\n",
    "logger1 = logging.getLogger(\"module1\")\n",
    "logger1.setLevel(logging.DEBUG)\n",
    "\n",
    "# create a logger for module2\n",
    "\n",
    "logger2 = logging.getLogger(\"module2\")\n",
    "logger2.setLevel(logging.WARNING)"
   ]
  },
  {
   "cell_type": "code",
   "execution_count": 6,
   "id": "ebcd3fb1-726c-4f4c-86f5-0a830a103f6e",
   "metadata": {},
   "outputs": [],
   "source": [
    "#log message with different loggers\n",
    "\n",
    "logger1.debug(\"This is debug message for module1\")\n",
    "logger2.warning(\"This is a warning message for module 2\")\n",
    "logger2.error(\"\")"
   ]
  },
  {
   "cell_type": "markdown",
   "id": "5b2b0964-ec73-4633-882d-262bcf37833e",
   "metadata": {},
   "source": [
    "# Implementation"
   ]
  },
  {
   "cell_type": "code",
   "execution_count": 7,
   "id": "9c543ff1-6e61-4b30-b8c0-075245504326",
   "metadata": {},
   "outputs": [
    {
     "data": {
      "text/plain": [
       "22646"
      ]
     },
     "execution_count": 7,
     "metadata": {},
     "output_type": "execute_result"
    }
   ],
   "source": [
    "logging.basicConfig( \n",
    "    level = logging.DEBUG,\n",
    "    format = '%(asctime)s-%(name)s-%(levelname)s-%(message)s',\n",
    "    datefmt = '%Y-%m-%d %H:%M:%S',\n",
    "    handlers = [\n",
    "        logging.FileHandler(\"app1.log\"),\n",
    "        logging.StreamHandler()\n",
    "    ]\n",
    ")\n",
    "\n",
    "logger = logging.getLogger(\"Arthimetic App\")\n",
    "\n",
    "def add(a,b):\n",
    "    result = a+b\n",
    "    logger.debug(f\"Adding: {a}+{b} = {result}\")\n",
    "    return result\n",
    "def sub(a,b):\n",
    "    result = a-b\n",
    "    logger.debug(f\"Adding: {a}-{b} = {result}\")\n",
    "    return result\n",
    "def mult(a,b):\n",
    "    result = a*b\n",
    "    logger.debug(f\"Adding: {a}*{b} = {result}\")\n",
    "    return result\n",
    "\n",
    "def div(a,b):\n",
    "    try:\n",
    "        result = a/b\n",
    "        logger.debug(f\"Adding: {a}/{b} = {result}\")\n",
    "        return result\n",
    "    except ZeroDivisionError:\n",
    "        logger.error(\"Division by zero error\")\n",
    "        return None\n",
    "\n",
    "add(10,15)\n",
    "sub(10,20)\n",
    "mult(134,169)\n",
    "div(20,10)"
   ]
  }
 ],
 "metadata": {
  "kernelspec": {
   "display_name": "Python (Poetry)",
   "language": "python",
   "name": "my-poetry-env"
  },
  "language_info": {
   "codemirror_mode": {
    "name": "ipython",
    "version": 3
   },
   "file_extension": ".py",
   "mimetype": "text/x-python",
   "name": "python",
   "nbconvert_exporter": "python",
   "pygments_lexer": "ipython3",
   "version": "3.12.0"
  }
 },
 "nbformat": 4,
 "nbformat_minor": 5
}

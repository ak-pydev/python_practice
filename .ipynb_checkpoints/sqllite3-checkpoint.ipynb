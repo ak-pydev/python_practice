{
 "cells": [
  {
   "cell_type": "markdown",
   "id": "0b74763f",
   "metadata": {},
   "source": [
    "# Crud operations using sqlite 3"
   ]
  },
  {
   "cell_type": "code",
   "execution_count": null,
   "id": "64186e3d",
   "metadata": {
    "vscode": {
     "languageId": "plaintext"
    }
   },
   "outputs": [],
   "source": []
  }
 ],
 "metadata": {
  "language_info": {
   "name": "python"
  }
 },
 "nbformat": 4,
 "nbformat_minor": 5
}

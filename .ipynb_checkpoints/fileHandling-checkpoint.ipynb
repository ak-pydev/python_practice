{
 "cells": [
  {
   "cell_type": "code",
   "execution_count": 2,
   "id": "6711a728-547a-439b-8991-d312a6a6fae5",
   "metadata": {},
   "outputs": [
    {
     "name": "stdout",
     "output_type": "stream",
     "text": [
      "Hello How are you?\n",
      "i am good\n",
      "Aaditya is my name\n",
      "Welcome to the course\n",
      "\n"
     ]
    }
   ],
   "source": [
    "#read a whole file\n",
    "\n",
    "with open('example.txt','r') as file:\n",
    "    content = file.read()\n",
    "    print(content)"
   ]
  },
  {
   "cell_type": "code",
   "execution_count": 5,
   "id": "c252f629-dce8-4eba-a74f-d9c0da09b288",
   "metadata": {},
   "outputs": [
    {
     "name": "stdout",
     "output_type": "stream",
     "text": [
      "Hello How are you?\n",
      "i am good\n",
      "Aaditya is my name\n",
      "Welcome to the course\n"
     ]
    }
   ],
   "source": [
    "#read a file line by line\n",
    "with open('example.txt','r') as file:\n",
    "    for line in file:\n",
    "        print(line.strip()) # removes extra space in the line"
   ]
  },
  {
   "cell_type": "code",
   "execution_count": 8,
   "id": "9ebe2606-0b68-476d-bc3f-31a9b2cc9a7d",
   "metadata": {},
   "outputs": [],
   "source": [
    "# writing a file(overwriting)\n",
    "\n",
    "with open('example.txt','w') as file:\n",
    "    file.write('Hello world!\\n')\n",
    "    file.write('I am trying to learn DS/Ml!')\n",
    "    "
   ]
  },
  {
   "cell_type": "code",
   "execution_count": 12,
   "id": "3cf656d6-5bf3-43cb-b924-6db93b668078",
   "metadata": {},
   "outputs": [],
   "source": [
    "with open('example.txt','a') as file:\n",
    "    file.write('\\nMy goal is to become better within 6 months.')"
   ]
  },
  {
   "cell_type": "code",
   "execution_count": 15,
   "id": "8f838a56-d0ff-45fe-9578-395d8c453447",
   "metadata": {},
   "outputs": [],
   "source": [
    "### writing list of lines to a file\n",
    "\n",
    "lines = ['\\nFirst line\\n', 'Second line\\n','Third line']\n",
    "with open('example.txt','a') as file:\n",
    "    for l in lines:\n",
    "        file.write(l)"
   ]
  },
  {
   "cell_type": "code",
   "execution_count": null,
   "id": "b42c4de5-b254-466f-aeb9-60b3cab67284",
   "metadata": {},
   "outputs": [],
   "source": []
  }
 ],
 "metadata": {
  "kernelspec": {
   "display_name": "Python 3 (ipykernel)",
   "language": "python",
   "name": "python3"
  },
  "language_info": {
   "codemirror_mode": {
    "name": "ipython",
    "version": 3
   },
   "file_extension": ".py",
   "mimetype": "text/x-python",
   "name": "python",
   "nbconvert_exporter": "python",
   "pygments_lexer": "ipython3",
   "version": "3.11.9"
  }
 },
 "nbformat": 4,
 "nbformat_minor": 5
}

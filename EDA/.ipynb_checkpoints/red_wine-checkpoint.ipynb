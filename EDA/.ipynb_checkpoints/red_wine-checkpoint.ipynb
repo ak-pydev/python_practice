{
 "cells": [
  {
   "cell_type": "markdown",
   "id": "fdd3c45a",
   "metadata": {},
   "source": [
    "# EDA on red wine dataset"
   ]
  }
 ],
 "metadata": {
  "language_info": {
   "name": "python"
  }
 },
 "nbformat": 4,
 "nbformat_minor": 5
}

{
 "cells": [
  {
   "cell_type": "markdown",
   "id": "d1791f85",
   "metadata": {},
   "source": [
    "# EDA and feature engineering with flight price dataset"
   ]
  },
  {
   "cell_type": "markdown",
   "id": "cb440259",
   "metadata": {},
   "source": []
  }
 ],
 "metadata": {
  "language_info": {
   "name": "python"
  }
 },
 "nbformat": 4,
 "nbformat_minor": 5
}

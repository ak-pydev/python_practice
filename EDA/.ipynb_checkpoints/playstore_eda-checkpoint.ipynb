{
 "cells": [
  {
   "cell_type": "markdown",
   "id": "ac20fe2f",
   "metadata": {},
   "source": [
    "# EDA on Google Playstore"
   ]
  },
  {
   "cell_type": "markdown",
   "id": "a7f86328",
   "metadata": {},
   "source": []
  }
 ],
 "metadata": {
  "language_info": {
   "name": "python"
  }
 },
 "nbformat": 4,
 "nbformat_minor": 5
}

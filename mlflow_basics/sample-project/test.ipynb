{
 "cells": [
  {
   "cell_type": "markdown",
   "id": "16bb9895",
   "metadata": {},
   "source": [
    "# Sample mlflow project"
   ]
  },
  {
   "cell_type": "code",
   "execution_count": null,
   "id": "b7196718",
   "metadata": {},
   "outputs": [],
   "source": [
    "import pandas as pd\n",
    "import numpy as np"
   ]
  },
  {
   "cell_type": "code",
   "execution_count": null,
   "id": "b255687b",
   "metadata": {},
   "outputs": [],
   "source": []
  }
 ],
 "metadata": {
  "language_info": {
   "name": "python"
  }
 },
 "nbformat": 4,
 "nbformat_minor": 5
}

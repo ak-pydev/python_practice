{
 "cells": [
  {
   "cell_type": "markdown",
   "id": "abae08ea",
   "metadata": {},
   "source": [
    "# MLFlow tracking server"
   ]
  },
  {
   "cell_type": "code",
   "execution_count": 9,
   "id": "822f70bd",
   "metadata": {},
   "outputs": [],
   "source": [
    "import mlflow # run mlflow ui in the cli"
   ]
  },
  {
   "cell_type": "code",
   "execution_count": 10,
   "id": "f9af2c8a-6166-4ca9-a94c-0371addf9ec4",
   "metadata": {},
   "outputs": [],
   "source": [
    "mlflow.set_tracking_uri(\"http://127.0.0.1:5000\")"
   ]
  },
  {
   "cell_type": "code",
   "execution_count": 11,
   "id": "4aaafe7d-714f-40ee-a014-9aa1e0843640",
   "metadata": {},
   "outputs": [
    {
     "name": "stdout",
     "output_type": "stream",
     "text": [
      "🏃 View run glamorous-skunk-737 at: http://127.0.0.1:5000/#/experiments/311809451775507514/runs/0c7af6ea2f0f493f9b3fdcaa178ed7ba\n",
      "🧪 View experiment at: http://127.0.0.1:5000/#/experiments/311809451775507514\n"
     ]
    }
   ],
   "source": [
    "mlflow.set_experiment(\"Check localhost connection\")\n",
    "\n",
    "with mlflow.start_run():\n",
    "    mlflow.log_metric(\"test\",1)\n",
    "    mlflow.log_metric(\"Aaditya\",2)"
   ]
  },
  {
   "cell_type": "code",
   "execution_count": 12,
   "id": "afd3871b-b480-4f34-9cf5-32b6ce31dcb5",
   "metadata": {},
   "outputs": [
    {
     "name": "stdout",
     "output_type": "stream",
     "text": [
      "🏃 View run blushing-pug-7 at: http://127.0.0.1:5000/#/experiments/311809451775507514/runs/c75664a875ef49c6a75e929d8cf4315d\n",
      "🧪 View experiment at: http://127.0.0.1:5000/#/experiments/311809451775507514\n"
     ]
    }
   ],
   "source": [
    "with mlflow.start_run():\n",
    "    mlflow.log_metric(\"test_new\",1)\n",
    "    mlflow.log_metric(\"Aaditya_second\",2)"
   ]
  },
  {
   "cell_type": "markdown",
   "id": "add6fcaf-2d23-443e-b8ea-bfcad9b58e94",
   "metadata": {},
   "source": []
  }
 ],
 "metadata": {
  "kernelspec": {
   "display_name": "Python 3 (ipykernel)",
   "language": "python",
   "name": "python3"
  },
  "language_info": {
   "codemirror_mode": {
    "name": "ipython",
    "version": 3
   },
   "file_extension": ".py",
   "mimetype": "text/x-python",
   "name": "python",
   "nbconvert_exporter": "python",
   "pygments_lexer": "ipython3",
   "version": "3.11.9"
  }
 },
 "nbformat": 4,
 "nbformat_minor": 5
}

{
 "cells": [
  {
   "cell_type": "code",
   "execution_count": null,
   "id": "c0247aa6",
   "metadata": {},
   "outputs": [],
   "source": [
    "my_list =[1,2,3,4,5,6,7,8,9,10]"
   ]
  },
  {
   "cell_type": "code",
   "execution_count": null,
   "id": "e5c111df",
   "metadata": {},
   "outputs": [],
   "source": [
    "iterator = iter(my_list)"
   ]
  },
  {
   "cell_type": "code",
   "execution_count": null,
   "id": "2f17c6b0",
   "metadata": {},
   "outputs": [],
   "source": [
    "# Interate through the list using the iterator\n",
    "\n",
    "try:\n",
    "    print(next(iterator)) # 1\n",
    "except StopIteration:\n",
    "    print(\"End of iterator\")"
   ]
  },
  {
   "cell_type": "code",
   "execution_count": null,
   "id": "884f3749",
   "metadata": {},
   "outputs": [],
   "source": [
    "# generators\n",
    "\n",
    "def square(n):\n",
    "    for i in range (3):\n",
    "        yield i**2\n",
    "square(3)"
   ]
  },
  {
   "cell_type": "code",
   "execution_count": null,
   "id": "12af884f",
   "metadata": {},
   "outputs": [],
   "source": [
    "for i in square(3):\n",
    "    print(i) "
   ]
  },
  {
   "cell_type": "code",
   "execution_count": null,
   "id": "6a6484bc",
   "metadata": {},
   "outputs": [],
   "source": [
    "def my_generator():\n",
    "    yield 1\n",
    "    yield 2\n",
    "    yield 3\n",
    "gen = my_generator()    \n",
    "\n",
    "print(next(gen)) # 1"
   ]
  },
  {
   "cell_type": "code",
   "execution_count": null,
   "id": "e3724d42",
   "metadata": {},
   "outputs": [],
   "source": [
    "for val in gen:\n",
    "    print(val) # 2, 3"
   ]
  },
  {
   "cell_type": "code",
   "execution_count": null,
   "id": "58c0a377",
   "metadata": {},
   "outputs": [],
   "source": [
    "#Practical example\n",
    "\n",
    "def read_large_file(file_name):\n",
    "    with open(file_name) as f:\n",
    "        for line in f:\n",
    "            yield line.strip()\n"
   ]
  },
  {
   "cell_type": "code",
   "execution_count": null,
   "id": "ab53d8ab",
   "metadata": {},
   "outputs": [],
   "source": [
    "file_path = 'large_file.txt'\n",
    "for line in read_large_file(file_path):\n",
    "    print(line.strip()) # Process each line"
   ]
  },
  {
   "cell_type": "code",
   "execution_count": null,
   "id": "d54758fb",
   "metadata": {},
   "outputs": [],
   "source": [
    "#Function copy\n",
    "\n",
    "def welcome():\n",
    "    print(\"Welcome to the Python world!\")\n",
    "\n",
    "wel = welcome\n",
    "wel() # This will not print anything because the function is not called"
   ]
  },
  {
   "cell_type": "code",
   "execution_count": null,
   "id": "70d432cd",
   "metadata": {},
   "outputs": [],
   "source": [
    "del welcome\n",
    "wel()"
   ]
  },
  {
   "cell_type": "code",
   "execution_count": null,
   "id": "e45bc28b",
   "metadata": {},
   "outputs": [],
   "source": [
    "#closures\n",
    "\n",
    "def main_welcome(msg):\n",
    "    def sub_welcome():\n",
    "        print(\"Sub welcome method\")\n",
    "        print(msg)\n",
    "        print(\"Learn Python properly\")\n",
    "    return sub_welcome()  "
   ]
  },
  {
   "cell_type": "code",
   "execution_count": null,
   "id": "9fe55c47",
   "metadata": {},
   "outputs": [],
   "source": [
    "main_welcome(\"what is python\") # This will not print anything because the function is not called"
   ]
  },
  {
   "cell_type": "code",
   "execution_count": null,
   "id": "ba4f7640",
   "metadata": {},
   "outputs": [],
   "source": [
    "#closures\n",
    "\n",
    "def main_welcome(func):\n",
    "    def sub_welcome():\n",
    "        print(\"Sub welcome method\")\n",
    "        func(\"Day 3 it is !!\")\n",
    "        print(\"Learn Python properly\")\n",
    "    return sub_welcome()  "
   ]
  },
  {
   "cell_type": "code",
   "execution_count": null,
   "id": "30b7aa69",
   "metadata": {},
   "outputs": [],
   "source": [
    "main_welcome(print)"
   ]
  },
  {
   "cell_type": "code",
   "execution_count": null,
   "id": "e60e5d6f",
   "metadata": {},
   "outputs": [],
   "source": [
    "#closures\n",
    "\n",
    "def main_welcome(func,list):\n",
    "    def sub_welcome():\n",
    "        print(\"Sub welcome method\")\n",
    "        print(func(list))\n",
    "        print(\"Learn Python properly\")\n",
    "    return sub_welcome()  "
   ]
  },
  {
   "cell_type": "code",
   "execution_count": null,
   "id": "a5935bbd",
   "metadata": {},
   "outputs": [],
   "source": [
    "main_welcome(len,[1,2,3,4,5]) "
   ]
  },
  {
   "cell_type": "code",
   "execution_count": 71,
   "id": "a1accb87",
   "metadata": {},
   "outputs": [],
   "source": [
    "#closures\n",
    "\n",
    "def welcome(func):\n",
    "    def sub_welcome():\n",
    "        print(\"Sub welcome method\")\n",
    "        func()\n",
    "        print(\"Learn Python properly\")\n",
    "    return sub_welcome()  "
   ]
  },
  {
   "cell_type": "code",
   "execution_count": 72,
   "id": "808084d9",
   "metadata": {},
   "outputs": [],
   "source": [
    "def course_introduction():\n",
    "    print(\"Welcome to the Python world!\")\n",
    "    print(\"This is a course on Python programming.\")\n",
    "    print(\"We will cover various topics in Python.\")\n",
    "    print(\"Let's get started!\")"
   ]
  },
  {
   "cell_type": "code",
   "execution_count": 73,
   "id": "5a685a21",
   "metadata": {},
   "outputs": [
    {
     "name": "stdout",
     "output_type": "stream",
     "text": [
      "Sub welcome method\n",
      "Welcome to the Python world!\n",
      "This is a course on Python programming.\n",
      "We will cover various topics in Python.\n",
      "Let's get started!\n",
      "Learn Python properly\n"
     ]
    }
   ],
   "source": [
    "welcome(course_introduction)"
   ]
  },
  {
   "cell_type": "code",
   "execution_count": 75,
   "id": "208c8cd0",
   "metadata": {},
   "outputs": [
    {
     "name": "stdout",
     "output_type": "stream",
     "text": [
      "Sub welcome method\n",
      "Welcome to the Python world!\n",
      "This is a course on Python programming.\n",
      "We will cover various topics in Python.\n",
      "Let's get started!\n",
      "Learn Python properly\n"
     ]
    }
   ],
   "source": [
    "@welcome\n",
    "def course_introduction():\n",
    "    print(\"Welcome to the Python world!\")\n",
    "    print(\"This is a course on Python programming.\")\n",
    "    print(\"We will cover various topics in Python.\")\n",
    "    print(\"Let's get started!\")\n"
   ]
  },
  {
   "cell_type": "code",
   "execution_count": 76,
   "id": "62007ce8",
   "metadata": {},
   "outputs": [],
   "source": [
    "def my_decorator(func):\n",
    "    def wrapper():\n",
    "        print(\"Before the function is called.\")\n",
    "        func()\n",
    "        print(\"After the function is called.\")\n",
    "    return wrapper"
   ]
  },
  {
   "cell_type": "code",
   "execution_count": 78,
   "id": "feee436a",
   "metadata": {},
   "outputs": [
    {
     "name": "stdout",
     "output_type": "stream",
     "text": [
      "Before the function is called.\n",
      "Hello, World!\n",
      "After the function is called.\n"
     ]
    }
   ],
   "source": [
    "@my_decorator\n",
    "\n",
    "def say_hello():\n",
    "    print(\"Hello, World!\")\n",
    "say_hello()"
   ]
  },
  {
   "cell_type": "code",
   "execution_count": 84,
   "id": "2d3b2601",
   "metadata": {},
   "outputs": [],
   "source": [
    "def repeat(num_times):\n",
    "    def decorator_repeat(func):\n",
    "        def wrapper(*args, **kwargs):\n",
    "            for _ in range(num_times):\n",
    "                func(*args, **kwargs)\n",
    "        return wrapper\n",
    "    return decorator_repeat\n",
    "\n"
   ]
  },
  {
   "cell_type": "code",
   "execution_count": 85,
   "id": "9c54e1d9",
   "metadata": {},
   "outputs": [],
   "source": [
    "@repeat(3)\n",
    "def say_hello():\n",
    "    print(f\"Hello!\")\n",
    "          "
   ]
  },
  {
   "cell_type": "code",
   "execution_count": 86,
   "id": "41a398d2",
   "metadata": {},
   "outputs": [
    {
     "name": "stdout",
     "output_type": "stream",
     "text": [
      "Hello!\n",
      "Hello!\n",
      "Hello!\n"
     ]
    }
   ],
   "source": [
    "say_hello() # Hello! Hello! Hello!"
   ]
  }
 ],
 "metadata": {
  "kernelspec": {
   "display_name": "Python 3",
   "language": "python",
   "name": "python3"
  },
  "language_info": {
   "codemirror_mode": {
    "name": "ipython",
    "version": 3
   },
   "file_extension": ".py",
   "mimetype": "text/x-python",
   "name": "python",
   "nbconvert_exporter": "python",
   "pygments_lexer": "ipython3",
   "version": "3.12.0"
  }
 },
 "nbformat": 4,
 "nbformat_minor": 5
}

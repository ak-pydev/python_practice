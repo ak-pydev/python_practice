{
 "cells": [
  {
   "cell_type": "markdown",
   "metadata": {},
   "source": [
    "# OOP (Classes and Objects)"
   ]
  },
  {
   "cell_type": "markdown",
   "metadata": {},
   "source": [
    "### A class is a blue print for creating objects. Attributes,methods"
   ]
  },
  {
   "cell_type": "code",
   "execution_count": 5,
   "metadata": {},
   "outputs": [
    {
     "name": "stdout",
     "output_type": "stream",
     "text": [
      "<class '__main__.Car'>\n"
     ]
    }
   ],
   "source": [
    "class Car:\n",
    "    pass\n",
    "\n",
    "audi = Car()\n",
    "bmw = Car()\n",
    "\n",
    "print(type(audi))"
   ]
  },
  {
   "cell_type": "code",
   "execution_count": 6,
   "metadata": {},
   "outputs": [
    {
     "name": "stdout",
     "output_type": "stream",
     "text": [
      "4\n"
     ]
    }
   ],
   "source": [
    "# Instance variable and Methods\n",
    "\n",
    "audi.windows = 4\n",
    "print(audi.windows)"
   ]
  },
  {
   "cell_type": "code",
   "execution_count": 7,
   "metadata": {},
   "outputs": [],
   "source": [
    "tata = Car()\n",
    "tata.doors = 6"
   ]
  },
  {
   "cell_type": "code",
   "execution_count": 8,
   "metadata": {},
   "outputs": [
    {
     "name": "stdout",
     "output_type": "stream",
     "text": [
      "bark\n",
      "4\n"
     ]
    }
   ],
   "source": [
    "class Dog:\n",
    "    # constructor\n",
    "    def __init__(self,sound,legs,color):\n",
    "        self.bark = sound\n",
    "        self.legs = legs\n",
    "        self.color = color\n",
    "\n",
    "# create objects\n",
    "\n",
    "dog1 = Dog(\"bark\", 4, \"spotted w/b\")\n",
    "\n",
    "print(dog1.bark)\n",
    "print(dog1.legs)\n",
    "\n"
   ]
  },
  {
   "cell_type": "code",
   "execution_count": 9,
   "metadata": {},
   "outputs": [
    {
     "name": "stdout",
     "output_type": "stream",
     "text": [
      "bark\n"
     ]
    }
   ],
   "source": [
    "class Dog:\n",
    "    # constructor\n",
    "    def __init__(self,name,age,sound,legs,color):\n",
    "        self.name = name\n",
    "        self.age = age\n",
    "        self.bark = sound\n",
    "        self.legs = legs\n",
    "        self.color = color\n",
    "\n",
    "dog1 = Dog(\"Tommy\", 2, \"bark\", 4, \"spotted w/b\")\n",
    "print(dog1.bark)\n",
    "dog2 = Dog(\"Jerry\", 3, \"woof\", 4, \"white\")\n"
   ]
  },
  {
   "cell_type": "code",
   "execution_count": 10,
   "metadata": {},
   "outputs": [
    {
     "name": "stdout",
     "output_type": "stream",
     "text": [
      "Deposited 2000. New balance is 2000\n",
      "Withdrew 500. New balance is 1500\n",
      "Account holder: Aaditya, Balance: 1500\n"
     ]
    }
   ],
   "source": [
    "#Modeling a bank account\n",
    "\n",
    "#Define a class for a bank account\n",
    "\n",
    "class BankAccount:\n",
    "    #contructor\n",
    "    def __init__(self, name, balance=0):\n",
    "        self.name = name\n",
    "        self.balance = balance\n",
    "\n",
    "    #method to deposit money\n",
    "    def deposit(self, amount):\n",
    "        self.balance += amount\n",
    "        print(f\"Deposited {amount}. New balance is {self.balance}\")\n",
    "    #method to withdraw money   \n",
    "    \n",
    "    def withdraw(self, amount):\n",
    "        if amount > self.balance:\n",
    "            print(\"Insufficient funds\")\n",
    "        else:\n",
    "            self.balance -= amount\n",
    "            print(f\"Withdrew {amount}. New balance is {self.balance}\")\n",
    "\n",
    "aaditya_acc = BankAccount(\"Aaditya\", 0)\n",
    "aaditya_acc.deposit(2000)\n",
    "aaditya_acc.withdraw(500)\n",
    "print(f\"Account holder: {aaditya_acc.name}, Balance: {aaditya_acc.balance}\")"
   ]
  },
  {
   "cell_type": "markdown",
   "metadata": {},
   "source": [
    "# Inheritence"
   ]
  },
  {
   "cell_type": "code",
   "execution_count": 11,
   "metadata": {},
   "outputs": [],
   "source": [
    "#parent class\n",
    "\n",
    "class Car:\n",
    "    def __init__(self,windows,doors,engine_type):\n",
    "        self.windows = windows\n",
    "        self.doors = doors\n",
    "        self.engine_type = engine_type\n",
    "    def drive(self):\n",
    "        print(f\"Driving {self.engine_type} car ...\")\n",
    "    def stop(self):\n",
    "        print(\"Stopping the car ...\")"
   ]
  },
  {
   "cell_type": "code",
   "execution_count": 12,
   "metadata": {},
   "outputs": [
    {
     "name": "stdout",
     "output_type": "stream",
     "text": [
      "Driving petrol car ...\n"
     ]
    }
   ],
   "source": [
    "car1 = Car(4,4,\"petrol\")\n",
    "car1.drive()"
   ]
  },
  {
   "cell_type": "code",
   "execution_count": 13,
   "metadata": {},
   "outputs": [
    {
     "name": "stdout",
     "output_type": "stream",
     "text": [
      "Driving electric car ...\n"
     ]
    },
    {
     "data": {
      "text/plain": [
       "'Tesla with autopilot True is driving itself'"
      ]
     },
     "execution_count": 13,
     "metadata": {},
     "output_type": "execute_result"
    }
   ],
   "source": [
    "# Single Inheritance\n",
    "class Tesla(Car):\n",
    "   def __init__(self, windows, doors, engine_type, autopilot):\n",
    "         super().__init__(windows, doors, engine_type) # super --> parent class\n",
    "         self.autopilot = autopilot\n",
    "   def self_drive(self):\n",
    "       return f\"Tesla with autopilot {self.autopilot} is driving itself\"\n",
    "   \n",
    "tesla1 = Tesla(4,4,\"electric\", True)\n",
    "tesla1.drive()\n",
    "tesla1.self_drive()"
   ]
  },
  {
   "cell_type": "code",
   "execution_count": 14,
   "metadata": {},
   "outputs": [
    {
     "name": "stdout",
     "output_type": "stream",
     "text": [
      "Tommy says Woof\n"
     ]
    }
   ],
   "source": [
    "# Multiple Inheritance\n",
    "class Animal:\n",
    "    def __init__(self, species, habitat,sound):\n",
    "        self.species = species\n",
    "        self.habitat = habitat\n",
    "        self.sound = sound\n",
    "    def speak(self):\n",
    "        print(\"subclass must implement this method\")\n",
    "class Pet:\n",
    "    def __init__(self, name):\n",
    "        self.name = name\n",
    "\n",
    "class Dog(Animal,Pet):\n",
    "    def __init__(self, species, habitat,sound,name):\n",
    "        Animal.__init__(self, species, habitat,sound)\n",
    "        Pet.__init__(self, name)\n",
    "    def speak(self):\n",
    "        print(f\"{self.name} says {self.sound}\")\n",
    "\n",
    "dog1 = Dog(\"Dog\", \"House\", \"Woof\", \"Tommy\")\n",
    "dog1.speak() \n",
    "    "
   ]
  },
  {
   "cell_type": "code",
   "execution_count": 15,
   "metadata": {},
   "outputs": [
    {
     "name": "stdout",
     "output_type": "stream",
     "text": [
      "Dog barks\n",
      "Cat meows\n",
      "Dog barks\n",
      "Cat meows\n"
     ]
    }
   ],
   "source": [
    "# Polymorphism\n",
    "\n",
    "# Method Overriding\n",
    "\n",
    "# Base class\n",
    "class Animal:\n",
    "    def speak(self):\n",
    "        print(\"Animal speaks\")\n",
    "# Derived class\n",
    "class Dog(Animal):\n",
    "    def speak(self):\n",
    "        print(\"Dog barks\")\n",
    "\n",
    "# function to demonstrate polymorphism\n",
    "def animal_sound(animal):\n",
    "    animal.speak()\n",
    "class Cat(Animal):\n",
    "    def speak(self):\n",
    "        print(\"Cat meows\")\n",
    "dog3 = Dog()\n",
    "dog3.speak() \n",
    "\n",
    "cat = Cat()\n",
    "cat.speak() # Output: Dog barks\n",
    "animal_sound(dog3) # Output: Dog barks\n",
    "animal_sound(cat) # Output: Cat meows"
   ]
  },
  {
   "cell_type": "code",
   "execution_count": 16,
   "metadata": {},
   "outputs": [
    {
     "name": "stdout",
     "output_type": "stream",
     "text": [
      "Area: 50\n",
      "Area: 153.86\n",
      "Area: 16.0\n"
     ]
    }
   ],
   "source": [
    "# Polymorphism with functions and mentohds\n",
    "\n",
    "class shape:\n",
    "    def area(self):\n",
    "        return \"The area of the figure\"\n",
    "class Rectangle(shape):\n",
    "    def __init__(self, length, breadth):\n",
    "        self.length = length\n",
    "        self.breadth = breadth\n",
    "\n",
    "    def area(self):\n",
    "        return self.length * self.breadth\n",
    "\n",
    "class Circle(shape):\n",
    "    def __init__(self, radius):\n",
    "        self.radius = radius\n",
    "\n",
    "    def area(self):\n",
    "        return 3.14 * self.radius * self.radius\n",
    "class Triangle(shape):\n",
    "    def __init__(self, base, height):\n",
    "        self.base = base\n",
    "        self.height = height\n",
    "\n",
    "    def area(self):\n",
    "        return 0.5 * self.base * self.height\n",
    "def print_area(shape):\n",
    "    print(f\"Area: {shape.area()}\")\n",
    "\n",
    "rectangle = Rectangle(5, 10)\n",
    "circle = Circle(7)\n",
    "triangle = Triangle(4, 8)\n",
    "print_area(rectangle)\n",
    "print_area(circle)\n",
    "print_area(triangle)"
   ]
  },
  {
   "cell_type": "code",
   "execution_count": 17,
   "metadata": {},
   "outputs": [
    {
     "name": "stdout",
     "output_type": "stream",
     "text": [
      "Car is starting\n",
      "Motorcycle is starting\n"
     ]
    }
   ],
   "source": [
    "# Polymorphism with abstract classes\n",
    "\n",
    "from abc import ABC, abstractmethod\n",
    "class Vehicle(ABC):\n",
    "    @abstractmethod\n",
    "    def start(self):\n",
    "        pass\n",
    "    @abstractmethod\n",
    "    def stop(self):\n",
    "        pass\n",
    "class Car(Vehicle):\n",
    "    def start(self):\n",
    "        print(\"Car is starting\")\n",
    "    def stop(self):\n",
    "        print(\"Car is stopping\")\n",
    "\n",
    "class motorcycles(Vehicle):\n",
    "    def start(self):\n",
    "        print(\"Motorcycle is starting\")\n",
    "    def stop(self):\n",
    "        print(\"Motorcycle is stopping\")\n",
    "# Create objects\n",
    "car = Car()\n",
    "motorcycle = motorcycles()\n",
    "\n",
    "car.start() \n",
    "motorcycle.start()"
   ]
  },
  {
   "cell_type": "markdown",
   "metadata": {},
   "source": [
    "# Encapsulation and abstraction"
   ]
  },
  {
   "cell_type": "code",
   "execution_count": 18,
   "metadata": {},
   "outputs": [
    {
     "name": "stdout",
     "output_type": "stream",
     "text": [
      "21\n"
     ]
    }
   ],
   "source": [
    "#Getter and Setter\n",
    "# Public,Protected and Private Attributes\n",
    "\n",
    "class Person:\n",
    "    def __init__(self,name,age,gender):\n",
    "        self.__name = name  # __name is private\n",
    "        self._age = age # protected variable\n",
    "        self.gender = gender # public variable\n",
    "class Employee(Person):\n",
    "    def __init__(self, name, age, gender):\n",
    "        super().__init__(name, age, gender)\n",
    "\n",
    "def get_name(person):\n",
    "    return person._Person__name # Accessing private variable using getter method\n",
    "\n",
    "person = Person(\"Aaditya\", 21,\"Male\")\n",
    "\n",
    "get_name(person)\n",
    "\n",
    "employee  = Employee(\"Aaditya\",21,\"Male\")\n",
    "print(employee._age) # Accessing protected variable\n"
   ]
  },
  {
   "cell_type": "code",
   "execution_count": 19,
   "metadata": {},
   "outputs": [
    {
     "name": "stdout",
     "output_type": "stream",
     "text": [
      "Aaditya\n",
      "21\n",
      "Aaditya Khanal\n"
     ]
    },
    {
     "data": {
      "text/plain": [
       "22"
      ]
     },
     "execution_count": 19,
     "metadata": {},
     "output_type": "execute_result"
    }
   ],
   "source": [
    "class Person:\n",
    "    def __init__(self, name, age):\n",
    "        self.__name = name  # private variable\n",
    "        self.__age = age    # private variable\n",
    "\n",
    "    # Getter method for name\n",
    "    def get_name(self):\n",
    "        return self.__name\n",
    "    # Setter method for name\n",
    "    def set_name(self, name):\n",
    "        self.__name = name\n",
    "    # Getter method for age\n",
    "    def get_age(self):\n",
    "        return self.__age\n",
    "    # Setter method for age\n",
    "    def set_age(self, age):\n",
    "        if age > 0:\n",
    "            self.__age = age\n",
    "        else:\n",
    "            print(\"Age must be positive\")\n",
    "\n",
    "person = Person(\"Aaditya\", 21)\n",
    "\n",
    "# Accessing private variables using getter methods\n",
    "print(person.get_name()) # Output: Aaditya\n",
    "print(person.get_age())  # Output: 21\n",
    "\n",
    "person.set_name(\"Aaditya Khanal\")\n",
    "person.set_age(22)                \n",
    "\n",
    "print(person.get_name()) # Output: Aaditya Khanal\n",
    "person.get_age() # Output: 22"
   ]
  },
  {
   "cell_type": "markdown",
   "metadata": {},
   "source": [
    "# Abstraction"
   ]
  },
  {
   "cell_type": "code",
   "execution_count": 20,
   "metadata": {},
   "outputs": [
    {
     "name": "stdout",
     "output_type": "stream",
     "text": [
      "BMW engine started\n",
      "Driving the vehicle\n"
     ]
    }
   ],
   "source": [
    "from abc import ABC, abstractmethod\n",
    "\n",
    "class Vehicle(ABC):\n",
    "    def drive(self):\n",
    "       print(\"Driving the vehicle\")\n",
    "    \n",
    "    @abstractmethod\n",
    "    def start_engine(self):\n",
    "       pass\n",
    "class BMW(Vehicle):\n",
    "   def start_engine(self):\n",
    "       print(\"BMW engine started\")\n",
    "\n",
    "def start_vehicle(vehicle):\n",
    "    vehicle.start_engine()\n",
    "    vehicle.drive()\n",
    "\n",
    "operate_bmw = BMW()\n",
    "start_vehicle(operate_bmw) # Output: BMW engine started\n",
    "\n",
    "   "
   ]
  },
  {
   "cell_type": "markdown",
   "metadata": {},
   "source": [
    "# Magic methods"
   ]
  },
  {
   "cell_type": "markdown",
   "metadata": {},
   "source": [
    "# dunder methods\n",
    "\n",
    "__init__ : constructor\n",
    "__str__ : string representation of the object\n",
    "__repr__ : official string representation of the object\n",
    "__len__ : length of the object\n",
    "__getitem__ : getting an item using indexing\n",
    "__setitem__ : setting an item using indexing\n",
    "__delitem__ : deleting an item using indexing\n",
    "__iter__ : making the object iterable\n",
    "__next__ : getting the next item in an iterable\n",
    " __call__ : making the object callable\n",
    " __eq__ : equality comparison\n",
    " __lt__ : less than comparison\n",
    " __gt__ : greater than comparison              \n",
    " __le__ : less than or equal to comparison\n",
    " __ge__ : greater than or equal to comparison\n",
    " __ne__ : not equal comparison\n",
    " __add__ : addition operator       \n",
    "\n",
    " '''\n",
    " Modularized comment\n",
    "  '''"
   ]
  },
  {
   "cell_type": "code",
   "execution_count": 23,
   "metadata": {},
   "outputs": [
    {
     "name": "stdout",
     "output_type": "stream",
     "text": [
      "Person(name=Aaditya, age=21) years old.\n",
      "Person(name=Aaditya, age=21)\n"
     ]
    }
   ],
   "source": [
    "# Basic methods\n",
    "class Person:\n",
    "    def __init__(self,name, age):\n",
    "        self.name = name\n",
    "        self.age = age\n",
    "    def __str__(self):\n",
    "        return f\"Person(name={self.name}, age={self.age}) years old.\"\n",
    "    def __repr__(self):\n",
    "        return f\"Person(name={self.name}, age={self.age})\"\n",
    "\n",
    "\n",
    "person = Person(\"Aaditya\", 21)\n",
    "print(person)\n",
    "print(repr(person)) # Output: Person(name=Aaditya, age=21)\n"
   ]
  },
  {
   "cell_type": "markdown",
   "metadata": {},
   "source": [
    "# Operator overloading"
   ]
  },
  {
   "cell_type": "code",
   "execution_count": 32,
   "metadata": {},
   "outputs": [
    {
     "name": "stdout",
     "output_type": "stream",
     "text": [
      "Vector(6, 8)\n",
      "Vector(-2, -2)\n",
      "Vector(6, 9)\n"
     ]
    }
   ],
   "source": [
    " # Operator Overloading \n",
    "\n",
    "# mathematical operations for vectors for vectors\n",
    "# using operator overloading\n",
    "\n",
    "class Vector:\n",
    "    def __init__(self, x, y):\n",
    "        self.x = x\n",
    "        self.y = y\n",
    "\n",
    "    def __add__(self, other):\n",
    "        return Vector(self.x + other.x, self.y + other.y)\n",
    "\n",
    "    def __sub__(self, other):\n",
    "        return Vector(self.x - other.x, self.y - other.y)\n",
    "    def __mul__(self, scalar):\n",
    "        return Vector(self.x * scalar, self.y * scalar)\n",
    "    \n",
    "    def __str__(self):\n",
    "        return f\"Vector({self.x}, {self.y})\"\n",
    "    \n",
    "v1 = Vector(2, 3)\n",
    "v2 = Vector(4, 5)\n",
    "\n",
    "v3 = v1 + v2\n",
    "print(v3)  # Output: Vector(6, 8)\n",
    "\n",
    "v4 = v1 - v2\n",
    "print(v4)  # Output: Vector(-2, -2)\n",
    "v5 = v1 * 3\n",
    "print(v5)  # Output: Vector(6, 9)\n",
    "    "
   ]
  },
  {
   "cell_type": "code",
   "execution_count": null,
   "metadata": {},
   "outputs": [],
   "source": [
    "# Custom exception handling (raise and throw exceptions)\n",
    "\n",
    "class error(Exception):\n",
    "    pass\n",
    "    \n",
    "class dobException(error):\n",
    "    pass"
   ]
  },
  {
   "cell_type": "code",
   "execution_count": 40,
   "metadata": {},
   "outputs": [
    {
     "name": "stdout",
     "output_type": "stream",
     "text": [
      "Sorry, you are not eligible\n"
     ]
    }
   ],
   "source": [
    "year = int(input(\"Enter the dob:\"))\n",
    "age = 2025 - year\n",
    "\n",
    "try:\n",
    "    if age <= 30 and age >= 20:\n",
    "        print(\"You are eligible\")\n",
    "    else:\n",
    "        raise dobException\n",
    "\n",
    "except dobException:\n",
    "    print(\"Sorry, you are not eligible\")\n"
   ]
  }
 ],
 "metadata": {
  "kernelspec": {
   "display_name": "Python 3",
   "language": "python",
   "name": "python3"
  },
  "language_info": {
   "codemirror_mode": {
    "name": "ipython",
    "version": 3
   },
   "file_extension": ".py",
   "mimetype": "text/x-python",
   "name": "python",
   "nbconvert_exporter": "python",
   "pygments_lexer": "ipython3",
   "version": "3.12.0"
  }
 },
 "nbformat": 4,
 "nbformat_minor": 2
}

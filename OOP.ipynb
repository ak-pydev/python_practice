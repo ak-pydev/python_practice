{
 "cells": [
  {
   "cell_type": "markdown",
   "metadata": {},
   "source": [
    "# OOP (Classes and Objects)"
   ]
  },
  {
   "cell_type": "markdown",
   "metadata": {},
   "source": [
    "### A class is a blue print for creating objects. Attributes,methods"
   ]
  },
  {
   "cell_type": "code",
   "execution_count": 32,
   "metadata": {},
   "outputs": [
    {
     "name": "stdout",
     "output_type": "stream",
     "text": [
      "<class '__main__.Car'>\n"
     ]
    }
   ],
   "source": [
    "class Car:\n",
    "    pass\n",
    "\n",
    "audi = Car()\n",
    "bmw = Car()\n",
    "\n",
    "print(type(audi))"
   ]
  },
  {
   "cell_type": "code",
   "execution_count": 33,
   "metadata": {},
   "outputs": [
    {
     "name": "stdout",
     "output_type": "stream",
     "text": [
      "4\n"
     ]
    }
   ],
   "source": [
    "# Instance variable and Methods\n",
    "\n",
    "audi.windows = 4\n",
    "print(audi.windows)"
   ]
  },
  {
   "cell_type": "code",
   "execution_count": 34,
   "metadata": {},
   "outputs": [],
   "source": [
    "tata = Car()\n",
    "tata.doors = 6"
   ]
  },
  {
   "cell_type": "code",
   "execution_count": 35,
   "metadata": {},
   "outputs": [
    {
     "name": "stdout",
     "output_type": "stream",
     "text": [
      "bark\n",
      "4\n"
     ]
    }
   ],
   "source": [
    "class Dog:\n",
    "    # constructor\n",
    "    def __init__(self,sound,legs,color):\n",
    "        self.bark = sound\n",
    "        self.legs = legs\n",
    "        self.color = color\n",
    "\n",
    "# create objects\n",
    "\n",
    "dog1 = Dog(\"bark\", 4, \"spotted w/b\")\n",
    "\n",
    "print(dog1.bark)\n",
    "print(dog1.legs)\n",
    "\n"
   ]
  },
  {
   "cell_type": "code",
   "execution_count": 36,
   "metadata": {},
   "outputs": [
    {
     "name": "stdout",
     "output_type": "stream",
     "text": [
      "bark\n"
     ]
    }
   ],
   "source": [
    "class Dog:\n",
    "    # constructor\n",
    "    def __init__(self,name,age,sound,legs,color):\n",
    "        self.name = name\n",
    "        self.age = age\n",
    "        self.bark = sound\n",
    "        self.legs = legs\n",
    "        self.color = color\n",
    "\n",
    "dog1 = Dog(\"Tommy\", 2, \"bark\", 4, \"spotted w/b\")\n",
    "print(dog1.bark)\n",
    "dog2 = Dog(\"Jerry\", 3, \"woof\", 4, \"white\")\n"
   ]
  },
  {
   "cell_type": "code",
   "execution_count": 37,
   "metadata": {},
   "outputs": [
    {
     "name": "stdout",
     "output_type": "stream",
     "text": [
      "Deposited 2000. New balance is 2000\n",
      "Withdrew 500. New balance is 1500\n",
      "Account holder: Aaditya, Balance: 1500\n"
     ]
    }
   ],
   "source": [
    "#Modeling a bank account\n",
    "\n",
    "#Define a class for a bank account\n",
    "\n",
    "class BankAccount:\n",
    "    #contructor\n",
    "    def __init__(self, name, balance=0):\n",
    "        self.name = name\n",
    "        self.balance = balance\n",
    "\n",
    "    #method to deposit money\n",
    "    def deposit(self, amount):\n",
    "        self.balance += amount\n",
    "        print(f\"Deposited {amount}. New balance is {self.balance}\")\n",
    "    #method to withdraw money   \n",
    "    \n",
    "    def withdraw(self, amount):\n",
    "        if amount > self.balance:\n",
    "            print(\"Insufficient funds\")\n",
    "        else:\n",
    "            self.balance -= amount\n",
    "            print(f\"Withdrew {amount}. New balance is {self.balance}\")\n",
    "\n",
    "aaditya_acc = BankAccount(\"Aaditya\", 0)\n",
    "aaditya_acc.deposit(2000)\n",
    "aaditya_acc.withdraw(500)\n",
    "print(f\"Account holder: {aaditya_acc.name}, Balance: {aaditya_acc.balance}\")"
   ]
  },
  {
   "cell_type": "markdown",
   "metadata": {},
   "source": [
    "# Inheritence"
   ]
  },
  {
   "cell_type": "code",
   "execution_count": 38,
   "metadata": {},
   "outputs": [],
   "source": [
    "#parent class\n",
    "\n",
    "class Car:\n",
    "    def __init__(self,windows,doors,engine_type):\n",
    "        self.windows = windows\n",
    "        self.doors = doors\n",
    "        self.engine_type = engine_type\n",
    "    def drive(self):\n",
    "        print(f\"Driving {self.engine_type} car ...\")\n",
    "    def stop(self):\n",
    "        print(\"Stopping the car ...\")"
   ]
  },
  {
   "cell_type": "code",
   "execution_count": 39,
   "metadata": {},
   "outputs": [
    {
     "name": "stdout",
     "output_type": "stream",
     "text": [
      "Driving petrol car ...\n"
     ]
    }
   ],
   "source": [
    "car1 = Car(4,4,\"petrol\")\n",
    "car1.drive()"
   ]
  },
  {
   "cell_type": "code",
   "execution_count": 40,
   "metadata": {},
   "outputs": [
    {
     "name": "stdout",
     "output_type": "stream",
     "text": [
      "Driving electric car ...\n"
     ]
    },
    {
     "data": {
      "text/plain": [
       "'Tesla with autopilot True is driving itself'"
      ]
     },
     "execution_count": 40,
     "metadata": {},
     "output_type": "execute_result"
    }
   ],
   "source": [
    "# Single Inheritance\n",
    "class Tesla(Car):\n",
    "   def __init__(self, windows, doors, engine_type, autopilot):\n",
    "         super().__init__(windows, doors, engine_type) # super --> parent class\n",
    "         self.autopilot = autopilot\n",
    "   def self_drive(self):\n",
    "       return f\"Tesla with autopilot {self.autopilot} is driving itself\"\n",
    "   \n",
    "tesla1 = Tesla(4,4,\"electric\", True)\n",
    "tesla1.drive()\n",
    "tesla1.self_drive()"
   ]
  },
  {
   "cell_type": "code",
   "execution_count": 41,
   "metadata": {},
   "outputs": [
    {
     "name": "stdout",
     "output_type": "stream",
     "text": [
      "Tommy says Woof\n"
     ]
    }
   ],
   "source": [
    "# Multiple Inheritance\n",
    "class Animal:\n",
    "    def __init__(self, species, habitat,sound):\n",
    "        self.species = species\n",
    "        self.habitat = habitat\n",
    "        self.sound = sound\n",
    "    def speak(self):\n",
    "        print(\"subclass must implement this method\")\n",
    "class Pet:\n",
    "    def __init__(self, name):\n",
    "        self.name = name\n",
    "\n",
    "class Dog(Animal,Pet):\n",
    "    def __init__(self, species, habitat,sound,name):\n",
    "        Animal.__init__(self, species, habitat,sound)\n",
    "        Pet.__init__(self, name)\n",
    "    def speak(self):\n",
    "        print(f\"{self.name} says {self.sound}\")\n",
    "\n",
    "dog1 = Dog(\"Dog\", \"House\", \"Woof\", \"Tommy\")\n",
    "dog1.speak() \n",
    "    "
   ]
  },
  {
   "cell_type": "code",
   "execution_count": 42,
   "metadata": {},
   "outputs": [
    {
     "name": "stdout",
     "output_type": "stream",
     "text": [
      "Dog barks\n",
      "Cat meows\n",
      "Dog barks\n",
      "Cat meows\n"
     ]
    }
   ],
   "source": [
    "# Polymorphism\n",
    "\n",
    "# Method Overriding\n",
    "\n",
    "# Base class\n",
    "class Animal:\n",
    "    def speak(self):\n",
    "        print(\"Animal speaks\")\n",
    "# Derived class\n",
    "class Dog(Animal):\n",
    "    def speak(self):\n",
    "        print(\"Dog barks\")\n",
    "\n",
    "# function to demonstrate polymorphism\n",
    "def animal_sound(animal):\n",
    "    animal.speak()\n",
    "class Cat(Animal):\n",
    "    def speak(self):\n",
    "        print(\"Cat meows\")\n",
    "dog3 = Dog()\n",
    "dog3.speak() \n",
    "\n",
    "cat = Cat()\n",
    "cat.speak() # Output: Dog barks\n",
    "animal_sound(dog3) # Output: Dog barks\n",
    "animal_sound(cat) # Output: Cat meows"
   ]
  },
  {
   "cell_type": "code",
   "execution_count": 45,
   "metadata": {},
   "outputs": [
    {
     "name": "stdout",
     "output_type": "stream",
     "text": [
      "Area: 50\n",
      "Area: 153.86\n",
      "Area: 16.0\n"
     ]
    }
   ],
   "source": [
    "# Polymorphism with functions and mentohds\n",
    "\n",
    "class shape:\n",
    "    def area(self):\n",
    "        return \"The area of the figure\"\n",
    "class Rectangle(shape):\n",
    "    def __init__(self, length, breadth):\n",
    "        self.length = length\n",
    "        self.breadth = breadth\n",
    "\n",
    "    def area(self):\n",
    "        return self.length * self.breadth\n",
    "\n",
    "class Circle(shape):\n",
    "    def __init__(self, radius):\n",
    "        self.radius = radius\n",
    "\n",
    "    def area(self):\n",
    "        return 3.14 * self.radius * self.radius\n",
    "class Triangle(shape):\n",
    "    def __init__(self, base, height):\n",
    "        self.base = base\n",
    "        self.height = height\n",
    "\n",
    "    def area(self):\n",
    "        return 0.5 * self.base * self.height\n",
    "def print_area(shape):\n",
    "    print(f\"Area: {shape.area()}\")\n",
    "\n",
    "rectangle = Rectangle(5, 10)\n",
    "circle = Circle(7)\n",
    "triangle = Triangle(4, 8)\n",
    "print_area(rectangle)\n",
    "print_area(circle)\n",
    "print_area(triangle)"
   ]
  },
  {
   "cell_type": "code",
   "execution_count": null,
   "metadata": {},
   "outputs": [
    {
     "name": "stdout",
     "output_type": "stream",
     "text": [
      "Car is starting\n",
      "Motorcycle is starting\n"
     ]
    }
   ],
   "source": [
    "# Polymorphism with abstract classes\n",
    "\n",
    "from abc import ABC, abstractmethod\n",
    "class Vehicle(ABC):\n",
    "    @abstractmethod\n",
    "    def start(self):\n",
    "        pass\n",
    "    @abstractmethod\n",
    "    def stop(self):\n",
    "        pass\n",
    "class Car(Vehicle):\n",
    "    def start(self):\n",
    "        print(\"Car is starting\")\n",
    "    def stop(self):\n",
    "        print(\"Car is stopping\")\n",
    "\n",
    "class motorcycles(Vehicle):\n",
    "    def start(self):\n",
    "        print(\"Motorcycle is starting\")\n",
    "    def stop(self):\n",
    "        print(\"Motorcycle is stopping\")\n",
    "# Create objects\n",
    "car = Car()\n",
    "motorcycle = motorcycles()\n",
    "\n",
    "car.start() \n",
    "motorcycle.start()"
   ]
  },
  {
   "cell_type": "markdown",
   "metadata": {},
   "source": [
    "# Encapsulation and abstraction"
   ]
  },
  {
   "cell_type": "code",
   "execution_count": 72,
   "metadata": {},
   "outputs": [
    {
     "name": "stdout",
     "output_type": "stream",
     "text": [
      "21\n"
     ]
    }
   ],
   "source": [
    "#Getter and Setter\n",
    "# Public,Protected and Private Attributes\n",
    "\n",
    "class Person:\n",
    "    def __init__(self,name,age,gender):\n",
    "        self.__name = name  # __name is private\n",
    "        self._age = age # protected variable\n",
    "        self.gender = gender # public variable\n",
    "class Employee(Person):\n",
    "    def __init__(self, name, age, gender):\n",
    "        super().__init__(name, age, gender)\n",
    "\n",
    "def get_name(person):\n",
    "    return person._Person__name # Accessing private variable using getter method\n",
    "\n",
    "person = Person(\"Aaditya\", 21,\"Male\")\n",
    "\n",
    "get_name(person)\n",
    "\n",
    "employee  = Employee(\"Aaditya\",21,\"Male\")\n",
    "print(employee._age) # Accessing protected variable\n"
   ]
  },
  {
   "cell_type": "code",
   "execution_count": 75,
   "metadata": {},
   "outputs": [
    {
     "name": "stdout",
     "output_type": "stream",
     "text": [
      "Aaditya\n",
      "21\n",
      "Aaditya Khanal\n"
     ]
    },
    {
     "data": {
      "text/plain": [
       "22"
      ]
     },
     "execution_count": 75,
     "metadata": {},
     "output_type": "execute_result"
    }
   ],
   "source": [
    "class Person:\n",
    "    def __init__(self, name, age):\n",
    "        self.__name = name  # private variable\n",
    "        self.__age = age    # private variable\n",
    "\n",
    "    # Getter method for name\n",
    "    def get_name(self):\n",
    "        return self.__name\n",
    "    # Setter method for name\n",
    "    def set_name(self, name):\n",
    "        self.__name = name\n",
    "    # Getter method for age\n",
    "    def get_age(self):\n",
    "        return self.__age\n",
    "    # Setter method for age\n",
    "    def set_age(self, age):\n",
    "        if age > 0:\n",
    "            self.__age = age\n",
    "        else:\n",
    "            print(\"Age must be positive\")\n",
    "\n",
    "person = Person(\"Aaditya\", 21)\n",
    "\n",
    "# Accessing private variables using getter methods\n",
    "print(person.get_name()) # Output: Aaditya\n",
    "print(person.get_age())  # Output: 21\n",
    "\n",
    "person.set_name(\"Aaditya Khanal\")\n",
    "person.set_age(22)                \n",
    "\n",
    "print(person.get_name()) # Output: Aaditya Khanal\n",
    "person.get_age() # Output: 22"
   ]
  },
  {
   "cell_type": "markdown",
   "metadata": {},
   "source": [
    "# Abstraction"
   ]
  },
  {
   "cell_type": "code",
   "execution_count": 80,
   "metadata": {},
   "outputs": [
    {
     "name": "stdout",
     "output_type": "stream",
     "text": [
      "BMW engine started\n",
      "Driving the vehicle\n"
     ]
    }
   ],
   "source": [
    "from abc import ABC, abstractmethod\n",
    "\n",
    "class Vehicle(ABC):\n",
    "    def drive(self):\n",
    "       print(\"Driving the vehicle\")\n",
    "    \n",
    "    @abstractmethod\n",
    "    def start_engine(self):\n",
    "       pass\n",
    "class BMW(Vehicle):\n",
    "   def start_engine(self):\n",
    "       print(\"BMW engine started\")\n",
    "\n",
    "def start_vehicle(vehicle):\n",
    "    vehicle.start_engine()\n",
    "    vehicle.drive()\n",
    "\n",
    "operate_bmw = BMW()\n",
    "start_vehicle(operate_bmw) # Output: BMW engine started\n",
    "\n",
    "   "
   ]
  }
 ],
 "metadata": {
  "kernelspec": {
   "display_name": "Python 3",
   "language": "python",
   "name": "python3"
  },
  "language_info": {
   "codemirror_mode": {
    "name": "ipython",
    "version": 3
   },
   "file_extension": ".py",
   "mimetype": "text/x-python",
   "name": "python",
   "nbconvert_exporter": "python",
   "pygments_lexer": "ipython3",
   "version": "3.12.0"
  }
 },
 "nbformat": 4,
 "nbformat_minor": 2
}

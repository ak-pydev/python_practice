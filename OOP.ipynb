{
 "cells": [
  {
   "cell_type": "markdown",
   "metadata": {},
   "source": [
    "# OOP (Classes and Objects)"
   ]
  },
  {
   "cell_type": "markdown",
   "metadata": {},
   "source": [
    "### A class is a blue print for creating objects. Attributes,methods"
   ]
  },
  {
   "cell_type": "code",
   "execution_count": 4,
   "metadata": {},
   "outputs": [
    {
     "name": "stdout",
     "output_type": "stream",
     "text": [
      "<class '__main__.Car'>\n"
     ]
    }
   ],
   "source": [
    "class Car:\n",
    "    pass\n",
    "\n",
    "audi = Car()\n",
    "bmw = Car()\n",
    "\n",
    "print(type(audi))"
   ]
  },
  {
   "cell_type": "code",
   "execution_count": 5,
   "metadata": {},
   "outputs": [
    {
     "name": "stdout",
     "output_type": "stream",
     "text": [
      "4\n"
     ]
    }
   ],
   "source": [
    "# Instance variable and Methods\n",
    "\n",
    "audi.windows = 4\n",
    "print(audi.windows)"
   ]
  },
  {
   "cell_type": "code",
   "execution_count": 7,
   "metadata": {},
   "outputs": [],
   "source": [
    "tata = Car()\n",
    "tata.doors = 6"
   ]
  },
  {
   "cell_type": "code",
   "execution_count": 14,
   "metadata": {},
   "outputs": [
    {
     "name": "stdout",
     "output_type": "stream",
     "text": [
      "bark\n",
      "4\n"
     ]
    }
   ],
   "source": [
    "class Dog:\n",
    "    # constructor\n",
    "    def __init__(self,sound,legs,color):\n",
    "        self.bark = sound\n",
    "        self.legs = legs\n",
    "        self.color = color\n",
    "\n",
    "# create objects\n",
    "\n",
    "dog1 = Dog(\"bark\", 4, \"spotted w/b\")\n",
    "\n",
    "print(dog1.bark)\n",
    "print(dog1.legs)\n",
    "\n"
   ]
  },
  {
   "cell_type": "code",
   "execution_count": 17,
   "metadata": {},
   "outputs": [
    {
     "name": "stdout",
     "output_type": "stream",
     "text": [
      "bark\n"
     ]
    }
   ],
   "source": [
    "class Dog:\n",
    "    # constructor\n",
    "    def __init__(self,name,age,sound,legs,color):\n",
    "        self.name = name\n",
    "        self.age = age\n",
    "        self.bark = sound\n",
    "        self.legs = legs\n",
    "        self.color = color\n",
    "\n",
    "dog1 = Dog(\"Tommy\", 2, \"bark\", 4, \"spotted w/b\")\n",
    "print(dog1.bark)\n",
    "dog2 = Dog(\"Jerry\", 3, \"woof\", 4, \"white\")\n"
   ]
  },
  {
   "cell_type": "code",
   "execution_count": null,
   "metadata": {},
   "outputs": [
    {
     "name": "stdout",
     "output_type": "stream",
     "text": [
      "Deposited 2000. New balance is 2000\n",
      "Withdrew 500. New balance is 1500\n",
      "Account holder: Aaditya, Balance: 1500\n"
     ]
    }
   ],
   "source": [
    "#Modeling a bank account\n",
    "\n",
    "#Define a class for a bank account\n",
    "\n",
    "class BankAccount:\n",
    "    #contructor\n",
    "    def __init__(self, name, balance=0):\n",
    "        self.name = name\n",
    "        self.balance = balance\n",
    "\n",
    "    #method to deposit money\n",
    "    def deposit(self, amount):\n",
    "        self.balance += amount\n",
    "        print(f\"Deposited {amount}. New balance is {self.balance}\")\n",
    "    #method to withdraw money   \n",
    "    \n",
    "    def withdraw(self, amount):\n",
    "        if amount > self.balance:\n",
    "            print(\"Insufficient funds\")\n",
    "        else:\n",
    "            self.balance -= amount\n",
    "            print(f\"Withdrew {amount}. New balance is {self.balance}\")\n",
    "\n",
    "aaditya_acc = BankAccount(\"Aaditya\", 0)\n",
    "aaditya_acc.deposit(2000)\n",
    "aaditya_acc.withdraw(500)\n",
    "print(f\"Account holder: {aaditya_acc.name}, Balance: {aaditya_acc.balance}\")"
   ]
  },
  {
   "cell_type": "code",
   "execution_count": null,
   "metadata": {},
   "outputs": [],
   "source": []
  }
 ],
 "metadata": {
  "kernelspec": {
   "display_name": "Python 3",
   "language": "python",
   "name": "python3"
  },
  "language_info": {
   "codemirror_mode": {
    "name": "ipython",
    "version": 3
   },
   "file_extension": ".py",
   "mimetype": "text/x-python",
   "name": "python",
   "nbconvert_exporter": "python",
   "pygments_lexer": "ipython3",
   "version": "3.12.0"
  }
 },
 "nbformat": 4,
 "nbformat_minor": 2
}

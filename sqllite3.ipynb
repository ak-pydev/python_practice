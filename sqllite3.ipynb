{
 "cells": [
  {
   "cell_type": "markdown",
   "id": "0b74763f",
   "metadata": {},
   "source": [
    "# Crud operations using sqlite 3"
   ]
  },
  {
   "cell_type": "code",
   "execution_count": 2,
   "id": "64186e3d",
   "metadata": {
    "vscode": {
     "languageId": "plaintext"
    }
   },
   "outputs": [],
   "source": [
    "import sqlite3 as sql"
   ]
  },
  {
   "cell_type": "code",
   "execution_count": 4,
   "id": "e27e419b-1685-47a2-9194-05df106d55ce",
   "metadata": {},
   "outputs": [],
   "source": [
    "# Connect to an SQLite DB\n",
    "\n",
    "connection = sql.connect('example.db')"
   ]
  },
  {
   "cell_type": "code",
   "execution_count": 5,
   "id": "00500af3-a9c0-4464-9d35-b5d2f932a1cd",
   "metadata": {},
   "outputs": [],
   "source": [
    "cursor = connection.cursor()"
   ]
  },
  {
   "cell_type": "code",
   "execution_count": 8,
   "id": "72ac0ec4-5c92-41f1-a869-c4836bba8e95",
   "metadata": {},
   "outputs": [],
   "source": [
    "# create a table\n",
    "\n",
    "cursor.execute('''\n",
    "Create Table If not Exists employees(\n",
    "            id Integer Primary key ,\n",
    "            name Text Not Null,\n",
    "            age Integer,\n",
    "            department Text\n",
    ")\n",
    "''')\n",
    "\n",
    "# Commit the changes\n",
    "\n",
    "connection.commit()"
   ]
  },
  {
   "cell_type": "code",
   "execution_count": 9,
   "id": "9678b2bf-edfa-4b9e-a05a-7ae48112956f",
   "metadata": {},
   "outputs": [
    {
     "data": {
      "text/plain": [
       "<sqlite3.Cursor at 0x103f3b1c0>"
      ]
     },
     "execution_count": 9,
     "metadata": {},
     "output_type": "execute_result"
    }
   ],
   "source": [
    "cursor.execute('''\n",
    "Select * From employees \n",
    "''')"
   ]
  },
  {
   "cell_type": "code",
   "execution_count": 10,
   "id": "d16a1832-264a-4cca-b545-f683d5093d51",
   "metadata": {},
   "outputs": [],
   "source": [
    "# Insert Data\n",
    "\n",
    "cursor.execute('''\n",
    " Insert Into employees(name,age,department)\n",
    " values('Aaditya',21,'AI Engineer')\n",
    "''')\n",
    "\n",
    "cursor.execute('''\n",
    " Insert Into employees(name,age,department)\n",
    " values('X_person',23,'AI Insfrastrucre Engineer')\n",
    "''')\n",
    "\n",
    "cursor.execute('''\n",
    " Insert Into employees(name,age,department)\n",
    " values('Y_person',32,'Principal AI Engineer')\n",
    "''')\n",
    "\n",
    "connection.commit()"
   ]
  },
  {
   "cell_type": "code",
   "execution_count": 14,
   "id": "5db507e1-cbea-475f-a38e-ae1049631f68",
   "metadata": {},
   "outputs": [
    {
     "name": "stdout",
     "output_type": "stream",
     "text": [
      "(1, 'Aaditya', 21, 'AI Engineer')\n",
      "(2, 'X_person', 23, 'AI Insfrastrucre Engineer')\n",
      "(3, 'Y_person', 32, 'Principal AI Engineer')\n"
     ]
    }
   ],
   "source": [
    "# Querying Data from the table\n",
    "\n",
    "cursor.execute('Select * from employees')\n",
    "rows = cursor.fetchall()\n",
    "\n",
    "for row in rows:\n",
    "    print(row)"
   ]
  },
  {
   "cell_type": "code",
   "execution_count": 15,
   "id": "8fd1fa1b-ec5e-4753-b5de-733563f5b955",
   "metadata": {},
   "outputs": [
    {
     "data": {
      "text/plain": [
       "<sqlite3.Cursor at 0x103f3b1c0>"
      ]
     },
     "execution_count": 15,
     "metadata": {},
     "output_type": "execute_result"
    }
   ],
   "source": [
    "#update the data in the table\n",
    "\n",
    "cursor.execute('''\n",
    "UPDATE employees\n",
    "Set age = 22\n",
    "where name = 'X_person'\n",
    "''')"
   ]
  },
  {
   "cell_type": "code",
   "execution_count": 16,
   "id": "efc382e1-0007-47ab-ab66-b1fc223c3568",
   "metadata": {},
   "outputs": [
    {
     "name": "stdout",
     "output_type": "stream",
     "text": [
      "(1, 'Aaditya', 21, 'AI Engineer')\n",
      "(2, 'X_person', 22, 'AI Insfrastrucre Engineer')\n",
      "(3, 'Y_person', 32, 'Principal AI Engineer')\n"
     ]
    }
   ],
   "source": [
    "# Querying Data after updating the table\n",
    "\n",
    "cursor.execute('Select * from employees')\n",
    "rows = cursor.fetchall()\n",
    "\n",
    "for row in rows:\n",
    "    print(row)"
   ]
  },
  {
   "cell_type": "code",
   "execution_count": 17,
   "id": "cc6ed66f-e85d-44e0-99e8-2393a24af3c0",
   "metadata": {},
   "outputs": [
    {
     "data": {
      "text/plain": [
       "<sqlite3.Cursor at 0x103f3b1c0>"
      ]
     },
     "execution_count": 17,
     "metadata": {},
     "output_type": "execute_result"
    }
   ],
   "source": [
    "# delete the data from the table\n",
    "\n",
    "cursor.execute('''\n",
    "Delete from employees\n",
    "    where name = 'Y_person'\n",
    "''')"
   ]
  },
  {
   "cell_type": "code",
   "execution_count": 18,
   "id": "389cae35-5f87-4c85-a919-25d8c365b69a",
   "metadata": {},
   "outputs": [
    {
     "name": "stdout",
     "output_type": "stream",
     "text": [
      "(1, 'Aaditya', 21, 'AI Engineer')\n",
      "(2, 'X_person', 22, 'AI Insfrastrucre Engineer')\n"
     ]
    }
   ],
   "source": [
    "# Querying Data after deleting records the table\n",
    "\n",
    "cursor.execute('Select * from employees')\n",
    "rows = cursor.fetchall()\n",
    "\n",
    "for row in rows:\n",
    "    print(row)"
   ]
  },
  {
   "cell_type": "code",
   "execution_count": 19,
   "id": "e78cfc4b-d45c-499d-9083-dcc5b6397300",
   "metadata": {},
   "outputs": [
    {
     "ename": "SyntaxError",
     "evalue": "invalid syntax. Perhaps you forgot a comma? (2689364217.py, line 3)",
     "output_type": "error",
     "traceback": [
      "  \u001b[36mCell\u001b[39m\u001b[36m \u001b[39m\u001b[32mIn[19]\u001b[39m\u001b[32m, line 3\u001b[39m\n\u001b[31m    \u001b[39m\u001b[31mcursor.executemany('''\u001b[39m\n                       ^\n\u001b[31mSyntaxError\u001b[39m\u001b[31m:\u001b[39m invalid syntax. Perhaps you forgot a comma?\n"
     ]
    }
   ],
   "source": [
    "#Example of multiple records insertion\n",
    "\n",
    "cursor.executemany('''\n",
    "Insert into sales (date,product,sales,region)\n",
    "            values(?,?,?,?)\n",
    "'''sales,data)"
   ]
  },
  {
   "cell_type": "code",
   "execution_count": 20,
   "id": "d8b7772a-f646-4b10-abdc-4abb3869e7ff",
   "metadata": {},
   "outputs": [],
   "source": [
    "#close connection\n",
    "\n",
    "connection.close()"
   ]
  },
  {
   "cell_type": "code",
   "execution_count": null,
   "id": "16bb626c-1bc9-4d68-9e81-7329f826379d",
   "metadata": {},
   "outputs": [],
   "source": []
  }
 ],
 "metadata": {
  "kernelspec": {
   "display_name": "Python (Poetry)",
   "language": "python",
   "name": "my-poetry-env"
  },
  "language_info": {
   "codemirror_mode": {
    "name": "ipython",
    "version": 3
   },
   "file_extension": ".py",
   "mimetype": "text/x-python",
   "name": "python",
   "nbconvert_exporter": "python",
   "pygments_lexer": "ipython3",
   "version": "3.12.0"
  }
 },
 "nbformat": 4,
 "nbformat_minor": 5
}

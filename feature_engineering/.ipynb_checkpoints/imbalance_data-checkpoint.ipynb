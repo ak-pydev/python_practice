{
 "cells": [
  {
   "cell_type": "code",
   "execution_count": null,
   "id": "9de364b2",
   "metadata": {},
   "outputs": [],
   "source": [
    "# Handling imbalance in the dataset\n",
    "\n",
    "# --upsample\n",
    "# --downsample"
   ]
  },
  {
   "cell_type": "code",
   "execution_count": null,
   "id": "17c803b0",
   "metadata": {},
   "outputs": [],
   "source": [
    " # Example:\n",
    "\n",
    "import pandas as pd\n",
    "numpy as np\n",
    "\n",
    "np.random.seed(123)\n",
    "\n",
    "n_samples = 1000\n",
    "class_0_ratio = 0.9\n",
    "n_class_0 = int(n_samples * class_0_ratio)\n",
    "n_class_1 = n_samples - n_class_0\n"
   ]
  },
  {
   "cell_type": "code",
   "execution_count": null,
   "id": "32d484ad",
   "metadata": {},
   "outputs": [],
   "source": [
    "class_0 = pd.DataFrame({\n",
    "    'feature_1': np.random.normal(loc=0, scale=1, size=n_class_0),\n",
    "    'feature_2': np.random.normal(loc=0, scale=1, size=n_class_0),\n",
    "    'target': 0 * n_class_0\n",
    "})\n",
    "class_1 = pd.DataFrame({\n",
    "    'feature_1': np.random.normal(loc=2, scale=1, size=n_class_1),\n",
    "    'feature_2': np.random.normal(loc=2, scale=1, size=n_class_1),\n",
    "    'target': 1 * n_class_1\n",
    "})"
   ]
  },
  {
   "cell_type": "code",
   "execution_count": null,
   "id": "e85a4dd6",
   "metadata": {},
   "outputs": [],
   "source": []
  }
 ],
 "metadata": {
  "language_info": {
   "name": "python"
  }
 },
 "nbformat": 4,
 "nbformat_minor": 5
}

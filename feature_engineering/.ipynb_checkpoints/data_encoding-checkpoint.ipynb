{
 "cells": [
  {
   "cell_type": "code",
   "execution_count": null,
   "id": "d5455b88",
   "metadata": {},
   "outputs": [],
   "source": [
    "# Data Encoding"
   ]
  }
 ],
 "metadata": {
  "language_info": {
   "name": "python"
  }
 },
 "nbformat": 4,
 "nbformat_minor": 5
}

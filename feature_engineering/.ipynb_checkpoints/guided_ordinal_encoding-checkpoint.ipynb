{
 "cells": [
  {
   "cell_type": "markdown",
   "id": "126552b7",
   "metadata": {},
   "source": [
    "# Target guided ordinal encoding "
   ]
  },
  {
   "cell_type": "code",
   "execution_count": 4,
   "id": "0a38b7b8-6418-465d-9b88-16a2df5d3451",
   "metadata": {},
   "outputs": [],
   "source": [
    "import pandas as pd \n",
    "\n",
    "df = pd.DataFrame({\n",
    "    'city': ['New York', 'Los Angeles', 'Chicago', 'Houston', 'Phoenix','Seattle','Cincinnati'],\n",
    "    \n",
    "    'price': [1000000, 800000, 600000, 700000, 900000,10000000,250000000000]\n",
    "})"
   ]
  },
  {
   "cell_type": "markdown",
   "id": "2358d5ac",
   "metadata": {},
   "source": [
    " "
   ]
  }
 ],
 "metadata": {
  "kernelspec": {
   "display_name": "Python (Poetry)",
   "language": "python",
   "name": "my-poetry-env"
  },
  "language_info": {
   "codemirror_mode": {
    "name": "ipython",
    "version": 3
   },
   "file_extension": ".py",
   "mimetype": "text/x-python",
   "name": "python",
   "nbconvert_exporter": "python",
   "pygments_lexer": "ipython3",
   "version": "3.12.0"
  }
 },
 "nbformat": 4,
 "nbformat_minor": 5
}

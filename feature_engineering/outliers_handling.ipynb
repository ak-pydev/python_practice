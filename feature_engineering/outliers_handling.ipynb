{
 "cells": [
  {
   "cell_type": "markdown",
   "id": "a509e74e",
   "metadata": {},
   "source": [
    "# 5 number Summary and Box Plot"
   ]
  },
  {
   "cell_type": "code",
   "execution_count": 27,
   "id": "d3b0a608",
   "metadata": {},
   "outputs": [],
   "source": [
    "import numpy as np"
   ]
  },
  {
   "cell_type": "code",
   "execution_count": 34,
   "id": "fe40aff9",
   "metadata": {},
   "outputs": [],
   "source": [
    "lst_marks = [45, 67, 89, 23, 56, 78, 90, 12, 34, 56, 78, 91, 45, 67, 89, 23, 56, 78, 90, 12, 34,190,120,-100,-200]\n",
    "minimum,Q1,median,Q3,maximum= np.quantile(lst_marks,[0,0.25,0.50,0.75,1.0])"
   ]
  },
  {
   "cell_type": "code",
   "execution_count": 35,
   "id": "144601d3-6129-4faa-a1de-12df2f8126b8",
   "metadata": {},
   "outputs": [
    {
     "data": {
      "text/plain": [
       "(np.float64(-200.0), np.float64(34.0), np.float64(56.0), np.float64(89.0))"
      ]
     },
     "execution_count": 35,
     "metadata": {},
     "output_type": "execute_result"
    }
   ],
   "source": [
    "minimum,Q1,median,Q3"
   ]
  },
  {
   "cell_type": "code",
   "execution_count": 36,
   "id": "1b8ba0df",
   "metadata": {},
   "outputs": [],
   "source": [
    "IQR = Q3 - Q1"
   ]
  },
  {
   "cell_type": "code",
   "execution_count": 37,
   "id": "04c32015",
   "metadata": {},
   "outputs": [],
   "source": [
    "lower_bound = Q1 - 1.5 * IQR\n",
    "upper_bound = Q3 + 1.5 * IQR"
   ]
  },
  {
   "cell_type": "code",
   "execution_count": 38,
   "id": "2d82f213-93bb-4e3c-9784-3ec129a88214",
   "metadata": {},
   "outputs": [],
   "source": [
    "import seaborn as sns"
   ]
  },
  {
   "cell_type": "code",
   "execution_count": 39,
   "id": "59b158ec-b18a-45d2-a10b-c354e3c063d7",
   "metadata": {},
   "outputs": [
    {
     "data": {
      "text/plain": [
       "<Axes: >"
      ]
     },
     "execution_count": 39,
     "metadata": {},
     "output_type": "execute_result"
    },
    {
     "data": {
      "image/png": "[encoded data removed]",
      "text/plain": [
       "<Figure size 640x480 with 1 Axes>"
      ]
     },
     "metadata": {},
     "output_type": "display_data"
    }
   ],
   "source": [
    "sns.boxplot(lst_marks)"
   ]
  },
  {
   "cell_type": "code",
   "execution_count": null,
   "id": "765bd4a6-ffc2-4d34-b8dc-5fb05e135808",
   "metadata": {},
   "outputs": [],
   "source": []
  }
 ],
 "metadata": {
  "kernelspec": {
   "display_name": "Python 3 (ipykernel)",
   "language": "python",
   "name": "python3"
  },
  "language_info": {
   "codemirror_mode": {
    "name": "ipython",
    "version": 3
   },
   "file_extension": ".py",
   "mimetype": "text/x-python",
   "name": "python",
   "nbconvert_exporter": "python",
   "pygments_lexer": "ipython3",
   "version": "3.12.0"
  }
 },
 "nbformat": 4,
 "nbformat_minor": 5
}
